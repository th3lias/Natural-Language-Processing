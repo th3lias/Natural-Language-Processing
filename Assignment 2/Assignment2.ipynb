{
 "cells": [
  {
   "cell_type": "markdown",
   "metadata": {},
   "source": [
    "Please fill out the information of your group!\n",
    "\n",
    "| <p style=\"text-align: center;\">First Name</p>  | <p style=\"text-align: center;\">Family Name</p> | Matr.-No. |\n",
    "| ---------------------------------------------- | ---------------------------------------------- | -------- |\n",
    "| <p style=\"text-align: left\">Elias</p>| <p style=\"text-align: left\">Mindelberger</p> | k12043382 |\n",
    "| <p style=\"text-align: left\">Pascal</p>| <p style=\"text-align: left\">Pilz</p> | k12111234 |\n",
    "\n"
   ]
  },
  {
   "cell_type": "markdown",
   "metadata": {},
   "source": [
    "<h2 style=\"text-align: center\">344.105/6/7 UE: Natural Language Processing (WS2023/24)</h2>\n",
    "<h1 style=\"color:rgb(0,120,170)\">Assignment 2</h1>\n",
    "<h2 style=\"color:rgb(0,120,170)\">Getting to Know Word Embedding!</h2>"
   ]
  },
  {
   "cell_type": "markdown",
   "metadata": {},
   "source": [
    "<b>Terms of Use</b><br>\n",
    "This  material is prepared for educational purposes at the Johannes Kepler University (JKU) Linz, and is exclusively provided to the registered students of the mentioned course at JKU. It is strictly forbidden to distribute the current file, the contents of the assignment, and its solution. The use or reproduction of this manuscript is only allowed for educational purposes in non-profit organizations, while in this case, the explicit prior acceptance of the author(s) is required.\n",
    "\n",
    "**Authors:** Navid Rekab-saz, Oleg Lesota<br>\n"
   ]
  },
  {
   "cell_type": "markdown",
   "metadata": {},
   "source": [
    "<h2>Table of contents</h2>\n",
    "<ol>\n",
    "    <a href=\"#section-general-guidelines\"><li style=\"font-size:large;font-weight:bold\">General Guidelines</li></a>\n",
    "    <a href=\"#section-taskA\"><li style=\"font-size:large;font-weight:bold\">Task A: Words Similarity and Nearest Neighbors (15 points)</li></a>\n",
    "    <a href=\"#section-taskB\"><li style=\"font-size:large;font-weight:bold\">Task B: Document Classification with Word Embedding (15 points)</li></a>\n",
    "    <a href=\"#section-taskC\"><li style=\"font-size:large;font-weight:bold\">Task C: Classification with sent2vec Document Embeddings (2 extra point)</li></a>\n",
    "    <a href=\"#section-references\"><li style=\"font-size:large;font-weight:bold\">References</li></a>\n",
    "    \n",
    "</ol>"
   ]
  },
  {
   "cell_type": "markdown",
   "metadata": {},
   "source": [
    "<a name=\"section-general-guidelines\"></a><h2 style=\"color:rgb(0,120,170)\">General Guidelines</h2>"
   ]
  },
  {
   "cell_type": "markdown",
   "metadata": {},
   "source": [
    "### Assignment objective\n",
    "The aim of this assignment is to get familiarized with using word embedding (WE) models in practice. The assignment in total has **30 points**; it also offers **2 extra points** which can cover any missing point.\n",
    "\n",
    "This Notebook encompasses all aspects of the assignment, namely the descriptions of tasks as well as your solutions and reports. Feel free to add any required cell for solutions. The cells can contain code, reports, charts, tables, or any other material, required for the assignment. Feel free to provide the solutions in an interactive and visual way! \n",
    "\n",
    "Please discuss any unclear point in the assignment in the provided forum in MOODLE. It is also encouraged to provide answers to your peer's questions. However when submitting a post, keep in mind to avoid providing solutions. Please let the tutor(s) know shall you find any error or unclarity in the assignment.\n"
   ]
  },
  {
   "cell_type": "markdown",
   "metadata": {},
   "source": [
    "### Libraries & Dataset\n",
    "\n",
    "The assignment should be implemented with recent versions of `Python` (>3.7). Any standard Python library can be used, so far that the library is free and can be simply installed using `pip` or `conda`. Examples of potentially useful libraries are `scikit-learn`, `numpy`, `scipy`, `gensim`, `nltk`, `spaCy`, and `AllenNLP`. Use the latest stable version of each library.\n",
    "\n",
    "To conduct the experiments, we use a subset of the `HumSet` dataset [1] (https://blog.thedeep.io/humset/). `HumSet` is created by the DEEP (https://www.thedeep.io) project – an open source platform which aims to facilitate processing of textual data for international humanitarian response organizations. The platform enables the classification of text excerpts, extracted from news and reports into a set of domain specific classes. The provided dataset contains the classes (labels) referring to the humanitarian sectors like agriculture, health, and protection. The dataset contains an overall number of 17,301 data points. \n",
    "\n",
    "Download the dataset from the Moodle page of the course.\n",
    "\n",
    "the provided zip file consists of the following files:\n",
    "- `thedeep.subset.train.txt`: Train set in csv format with three fields: sentence_id, text, and label.\n",
    "- `thedeep.subset.validation.txt`: Validation set in csv format with three fields: sentence_id, text, and label.\n",
    "- `thedeep.subset.test.txt`: Test set in csv format with three fields: sentence_id, text, and label.\n",
    "- `thedeep.subset.label.txt`: Captions of the labels.\n",
    "- `thedeep.ToU.txt`: Terms of use of the dataset.\n",
    "\n",
    "[1] HumSet: Dataset of Multilingual Information Extraction and Classification for Humanitarian Crises Response\n",
    "*Selim Fekih, Nicolo' Tamagnone, Benjamin Minixhofer, Ranjan Shrestha, Ximena Contla, Ewan Oglethorpe and Navid Rekabsaz.* \n",
    "In Findings of the 2022 Conference on Empirical Methods in Natural Language Processing (Findings of EMNLP), December 2022.\n"
   ]
  },
  {
   "cell_type": "markdown",
   "metadata": {},
   "source": [
    "\n",
    "### Submission\n",
    "\n",
    "Each group should submit the following two files:\n",
    "\n",
    "- One Jupyter Notebook file (`.ipynb`), containing all the code, results, visualizations, etc. **In the submitted Notebook, all the results and visualizations should already be present, and can be observed simply by loading the Notebook in a browser.** The Notebook must be self-contained, meaning that (if necessary) one can run all the cells from top to bottom without any error. Do not forget to put in your names and student numbers in the first cell of the Notebook. \n",
    "- The HTML file (`.html`) achieved from exporting the Jupyter Notebook to HTML (Download As HTML).\n",
    "\n",
    "You do not need to include the data files in the submission.\n"
   ]
  },
  {
   "cell_type": "markdown",
   "metadata": {
    "jp-MarkdownHeadingCollapsed": true
   },
   "source": [
    "## Imports, globabl variables, data loading"
   ]
  },
  {
   "cell_type": "code",
   "execution_count": 1,
   "metadata": {},
   "outputs": [],
   "source": [
    "import sklearn as skl\n",
    "import numpy as np\n",
    "import scipy as sc\n",
    "import gensim\n",
    "import nltk\n",
    "import spacy\n",
    "# import allennlp\n",
    "\n",
    "import re\n",
    "import pandas as pd\n",
    "from matplotlib import pyplot as plt\n",
    "import seaborn as sns\n",
    "from tqdm import tqdm"
   ]
  },
  {
   "cell_type": "code",
   "execution_count": 2,
   "metadata": {},
   "outputs": [],
   "source": [
    "DATA_PATH = r\"../nlp2023_24_data/\"\n",
    "\n",
    "TRAIN_PATH = DATA_PATH + \"thedeep.subset.train.txt\"\n",
    "VAL_PATH = DATA_PATH + \"thedeep.subset.validation.txt\"\n",
    "TEST_PATH = DATA_PATH + \"thedeep.subset.test.txt\"\n",
    "\n",
    "LABEL_LEGEND_PATH = DATA_PATH + \"thedeep.labels.txt\"\n",
    "\n",
    "COL_NAMES = [\"_id\", \"data\", \"label\"]\n",
    "\n",
    "UNKNOWN = \"<UNK>\""
   ]
  },
  {
   "cell_type": "code",
   "execution_count": 3,
   "metadata": {},
   "outputs": [
    {
     "name": "stdout",
     "output_type": "stream",
     "text": [
      "RAW_TRAIN.shape=(12110, 3), RAW_VAL.shape=(2596, 3), RAW_TEST.shape=(2595, 3)\n"
     ]
    },
    {
     "data": {
      "text/html": [
       "<div>\n",
       "<style scoped>\n",
       "    .dataframe tbody tr th:only-of-type {\n",
       "        vertical-align: middle;\n",
       "    }\n",
       "\n",
       "    .dataframe tbody tr th {\n",
       "        vertical-align: top;\n",
       "    }\n",
       "\n",
       "    .dataframe thead th {\n",
       "        text-align: right;\n",
       "    }\n",
       "</style>\n",
       "<table border=\"1\" class=\"dataframe\">\n",
       "  <thead>\n",
       "    <tr style=\"text-align: right;\">\n",
       "      <th></th>\n",
       "      <th>_id</th>\n",
       "      <th>data</th>\n",
       "      <th>label</th>\n",
       "    </tr>\n",
       "  </thead>\n",
       "  <tbody>\n",
       "    <tr>\n",
       "      <th>0</th>\n",
       "      <td>5446</td>\n",
       "      <td>In addition to the immediate life-saving inter...</td>\n",
       "      <td>9</td>\n",
       "    </tr>\n",
       "    <tr>\n",
       "      <th>1</th>\n",
       "      <td>8812</td>\n",
       "      <td>There are approximately 2.6 million people cla...</td>\n",
       "      <td>3</td>\n",
       "    </tr>\n",
       "    <tr>\n",
       "      <th>2</th>\n",
       "      <td>16709</td>\n",
       "      <td>While aid imports have held up recently, comme...</td>\n",
       "      <td>5</td>\n",
       "    </tr>\n",
       "    <tr>\n",
       "      <th>3</th>\n",
       "      <td>3526</td>\n",
       "      <td>Heavy rainfalls as well as onrush of water fro...</td>\n",
       "      <td>0</td>\n",
       "    </tr>\n",
       "    <tr>\n",
       "      <th>4</th>\n",
       "      <td>4928</td>\n",
       "      <td>Based on field reports 9 , the main production...</td>\n",
       "      <td>3</td>\n",
       "    </tr>\n",
       "  </tbody>\n",
       "</table>\n",
       "</div>"
      ],
      "text/plain": [
       "     _id                                               data  label\n",
       "0   5446  In addition to the immediate life-saving inter...      9\n",
       "1   8812  There are approximately 2.6 million people cla...      3\n",
       "2  16709  While aid imports have held up recently, comme...      5\n",
       "3   3526  Heavy rainfalls as well as onrush of water fro...      0\n",
       "4   4928  Based on field reports 9 , the main production...      3"
      ]
     },
     "execution_count": 3,
     "metadata": {},
     "output_type": "execute_result"
    }
   ],
   "source": [
    "RAW_TRAIN = pd.read_csv(TRAIN_PATH, header=None)\n",
    "RAW_VAL = pd.read_csv(VAL_PATH, header=None)\n",
    "RAW_TEST = pd.read_csv(TEST_PATH, header=None)\n",
    "\n",
    "RAW_TRAIN.columns = RAW_VAL.columns = RAW_TEST.columns = COL_NAMES\n",
    "\n",
    "print(f\"{RAW_TRAIN.shape=}, {RAW_VAL.shape=}, {RAW_TEST.shape=}\")\n",
    "\n",
    "RAW_TRAIN.head()"
   ]
  },
  {
   "cell_type": "code",
   "execution_count": 4,
   "metadata": {},
   "outputs": [],
   "source": [
    "id2name = {}\n",
    "\n",
    "with open(LABEL_LEGEND_PATH, \"r\") as f:\n",
    "    for line in f:\n",
    "        num_name = line.strip().split(',')\n",
    "        num, name = num_name\n",
    "        id2name[int(num)] = name"
   ]
  },
  {
   "cell_type": "markdown",
   "metadata": {
    "jp-MarkdownHeadingCollapsed": true
   },
   "source": [
    "<a name=\"section-taskA\"></a><h2 style=\"color:rgb(0,120,170)\">Task A: Words Similarity and Nearest Neighbors (15 points)</h2>"
   ]
  },
  {
   "cell_type": "markdown",
   "metadata": {},
   "source": [
    "\n",
    "**Loading a word embedding (WE) model (1 points).** Download a pre-trained word embedding model such as word2vec (https://code.google.com/archive/p/word2vec/) or GloVe (https://nlp.stanford.edu/projects/glove/). You can load the downloaded vectors into arrays, or use libraries such as `gensim` to download and process the vectors. \n",
    "\n",
    "**Calculating word-to-word similarities (4 points).** Select <ins>5 arbitrary words</ins> from 5 different topics like objects, science disciplines, verbs, adjectives, animals, etc. Let us refer to these words as *source words*. For each source word, calculate its cosine similarities to <ins>6 target words</ins>. The target words of each source word are also selected by you and should cover various levels of semantic relations – according to your linguistic judgement – to the source word, namely from highly-related to not related at all. Organize the target words in tables, such that the target words of each source word are sorted from the highest to the lowest relevance (according to your judgement). Consider the following points:\n",
    "\n",
    "- **Implementation (2/4 points):** Implement cosine similarity as a function that takes two vectors and returns the similarity score. Implement cosine by yourself and do NOT use the provided functionalities of any library.\n",
    "- **Reporting and observations (2/4 points):** Report the calculated similarities side by side with your word-to-word semantic relevance judgements in tables. Compare the results and report your observations.  \n",
    "\n",
    "**Calculating nearest neighbors (10 points).** For the 5 source words, retrieve the $k=10$ nearest neighbors using the word embedding model, namely the words with the highest similarities to the source word. Consider the following points: \n",
    "    \n",
    "- **Overall implementation (3/10 points):** your implemented function takes a source vector, a set of target vectors, and the $k$ parameter, and returns the $k$ nearest neighbors and their similarity scores. Implement nearest neighbor calculation by yourself and do NOT use the provided functionalities of any library.\n",
    "- **Similarity metrics (2/10 points):** execute the calculation of nearest neighbors according to <ins>two similarity metrics</ins> namely cosine and dot product.\n",
    "- **Efficiency (3/10 points):** your nearest neighbor functions should provide an *efficient* calculation of nearest neighbors. An inefficient way (which should be avoided!) would be looping over the set of vectors in the word embedding model, and one by one calculating the cosine/dot product similarity of the source vector to each of the target vectors. As a hint for an efficient way, consider that in `numpy` (and other libraries), calculating the dot product of a vector to a matrix is much faster than the dot products of the vector to each vector of the matrix.\n",
    "- **Reporting and observations (2/10 points):** report the results in tables, which enable comparing between the outputs of the two similarity metrics. Which similarity metric would you prefer? Report your observations.\n",
    "\n",
    "</div>"
   ]
  },
  {
   "cell_type": "markdown",
   "metadata": {
    "jp-MarkdownHeadingCollapsed": true
   },
   "source": [
    "## Loading word embedding model"
   ]
  },
  {
   "cell_type": "code",
   "execution_count": 5,
   "metadata": {},
   "outputs": [
    {
     "name": "stdout",
     "output_type": "stream",
     "text": [
      "(3000000, 300)\n"
     ]
    }
   ],
   "source": [
    "from gensim.models import KeyedVectors\n",
    "\n",
    "model = KeyedVectors.load_word2vec_format('../GoogleNews-vectors-negative300.bin.gz', binary=True)\n",
    "\n",
    "# getting the embeddings matrix\n",
    "\n",
    "vocab = list(model.key_to_index.keys())\n",
    "embedding_matrix = np.array([model[word] for word in vocab])\n",
    "print(embedding_matrix.shape)"
   ]
  },
  {
   "cell_type": "markdown",
   "metadata": {
    "jp-MarkdownHeadingCollapsed": true
   },
   "source": [
    "## Calculating word-to-word similarities"
   ]
  },
  {
   "cell_type": "markdown",
   "metadata": {
    "jp-MarkdownHeadingCollapsed": true
   },
   "source": [
    "### Implementation of cosine similarity"
   ]
  },
  {
   "cell_type": "code",
   "execution_count": 6,
   "metadata": {},
   "outputs": [],
   "source": [
    "def convert_inputs(x, Y):\n",
    "    \"\"\"\n",
    "    Helper functions to convert inputs to numpy arrays and transpose them if necessary.\n",
    "    \"\"\"\n",
    "    x = np.asarray(x)\n",
    "    Y = np.asarray(Y)\n",
    "    if Y.shape[0] != len(x):\n",
    "        Y = Y.T\n",
    "    return x, Y"
   ]
  },
  {
   "cell_type": "code",
   "execution_count": 7,
   "metadata": {},
   "outputs": [],
   "source": [
    "def cos_sim(x: np.ndarray, Y: np.ndarray):\n",
    "    \"\"\"\n",
    "    Computes the cosine similarity between a source vector x and multiple target vectors Y.\n",
    "    \"\"\"\n",
    "    x, Y = convert_inputs(x, Y)\n",
    "    return (x @ Y) / (np.linalg.norm(x) * np.linalg.norm(Y, axis=0))"
   ]
  },
  {
   "cell_type": "markdown",
   "metadata": {
    "jp-MarkdownHeadingCollapsed": true
   },
   "source": [
    "### Reporting and observations"
   ]
  },
  {
   "cell_type": "markdown",
   "metadata": {},
   "source": [
    "**In the following, the target words are arranged in descending order by our personal understanding of semanting closeness.**"
   ]
  },
  {
   "cell_type": "code",
   "execution_count": 8,
   "metadata": {},
   "outputs": [
    {
     "name": "stdout",
     "output_type": "stream",
     "text": [
      "╒═══╤═══════╤═════════════╤══════════╕\n",
      "│ 1 │ green │ red         │ 0.536024 │\n",
      "├───┼───────┼─────────────┼──────────┤\n",
      "│ 0 │ green │ blue        │ 0.492465 │\n",
      "├───┼───────┼─────────────┼──────────┤\n",
      "│ 2 │ green │ ultraviolet │ 0.211983 │\n",
      "├───┼───────┼─────────────┼──────────┤\n",
      "│ 4 │ green │ sky         │ 0.211147 │\n",
      "├───┼───────┼─────────────┼──────────┤\n",
      "│ 3 │ green │ plant       │ 0.175136 │\n",
      "├───┼───────┼─────────────┼──────────┤\n",
      "│ 5 │ green │ dog         │ 0.105045 │\n",
      "╘═══╧═══════╧═════════════╧══════════╛\n",
      "\n",
      "╒═══╤═════════╤══════════╤═══════════╕\n",
      "│ 1 │ running │ walking  │ 0.389901  │\n",
      "├───┼─────────┼──────────┼───────────┤\n",
      "│ 0 │ running │ jogging  │ 0.349886  │\n",
      "├───┼─────────┼──────────┼───────────┤\n",
      "│ 2 │ running │ driving  │ 0.285482  │\n",
      "├───┼─────────┼──────────┼───────────┤\n",
      "│ 4 │ running │ sleeping │ 0.210244  │\n",
      "├───┼─────────┼──────────┼───────────┤\n",
      "│ 3 │ running │ sport    │ 0.107662  │\n",
      "├───┼─────────┼──────────┼───────────┤\n",
      "│ 5 │ running │ potato   │ 0.0302481 │\n",
      "╘═══╧═════════╧══════════╧═══════════╛\n",
      "\n",
      "╒═══╤════════════╤═══════════════╤══════════╕\n",
      "│ 0 │ girlfriend │ wife          │ 0.710216 │\n",
      "├───┼────────────┼───────────────┼──────────┤\n",
      "│ 3 │ girlfriend │ friend        │ 0.622629 │\n",
      "├───┼────────────┼───────────────┼──────────┤\n",
      "│ 1 │ girlfriend │ sister        │ 0.549616 │\n",
      "├───┼────────────┼───────────────┼──────────┤\n",
      "│ 2 │ girlfriend │ brother       │ 0.500741 │\n",
      "├───┼────────────┼───────────────┼──────────┤\n",
      "│ 4 │ girlfriend │ acquaintances │ 0.388577 │\n",
      "├───┼────────────┼───────────────┼──────────┤\n",
      "│ 5 │ girlfriend │ horse         │ 0.146207 │\n",
      "╘═══╧════════════╧═══════════════╧══════════╛\n",
      "\n",
      "╒═══╤════════╤══════════╤══════════╕\n",
      "│ 0 │ window │ door     │ 0.62128  │\n",
      "├───┼────────┼──────────┼──────────┤\n",
      "│ 3 │ window │ wall     │ 0.436937 │\n",
      "├───┼────────┼──────────┼──────────┤\n",
      "│ 4 │ window │ house    │ 0.372545 │\n",
      "├───┼────────┼──────────┼──────────┤\n",
      "│ 5 │ window │ sky      │ 0.301374 │\n",
      "├───┼────────┼──────────┼──────────┤\n",
      "│ 1 │ window │ entrance │ 0.297492 │\n",
      "├───┼────────┼──────────┼──────────┤\n",
      "│ 2 │ window │ opening  │ 0.107671 │\n",
      "╘═══╧════════╧══════════╧══════════╛\n",
      "\n",
      "╒═══╤═════════╤════════════╤══════════╕\n",
      "│ 1 │ helping │ assisting  │ 0.653807 │\n",
      "├───┼─────────┼────────────┼──────────┤\n",
      "│ 0 │ helping │ aiding     │ 0.57263  │\n",
      "├───┼─────────┼────────────┼──────────┤\n",
      "│ 3 │ helping │ supporting │ 0.484224 │\n",
      "├───┼─────────┼────────────┼──────────┤\n",
      "│ 4 │ helping │ support    │ 0.305414 │\n",
      "├───┼─────────┼────────────┼──────────┤\n",
      "│ 2 │ helping │ assistance │ 0.278555 │\n",
      "├───┼─────────┼────────────┼──────────┤\n",
      "│ 5 │ helping │ skis       │ 0.023663 │\n",
      "╘═══╧═════════╧════════════╧══════════╛\n",
      "\n"
     ]
    }
   ],
   "source": [
    "from tabulate import tabulate\n",
    "\n",
    "words = [{\"source\": \"green\",      \"target\": [\"blue\", \"red\", \"ultraviolet\", \"plant\", \"sky\", \"dog\"]},\n",
    "         {\"source\": \"running\",    \"target\": [\"jogging\", \"walking\", \"driving\", \"sport\", \"sleeping\", \"potato\"]},\n",
    "         {\"source\": \"girlfriend\", \"target\": [\"wife\", \"sister\", \"brother\", \"friend\", \"acquaintances\", \"horse\"]},\n",
    "         {\"source\": \"window\",     \"target\": [\"door\", \"entrance\", \"opening\", \"wall\", \"house\", \"sky\"]},\n",
    "         {\"source\": \"helping\",    \"target\": [\"aiding\", \"assisting\", \"assistance\", \"supporting\", \"support\", \"skis\"]}]\n",
    "\n",
    "for elem in words:\n",
    "    source = elem[\"source\"]\n",
    "    elem[\"cos_sim\"] = cos_sim(model[source], [model[word] for word in elem[\"target\"]])\n",
    "    df = pd.DataFrame(elem)\n",
    "    df = df.sort_values(by=\"cos_sim\", ascending=False)\n",
    "    table = tabulate(df, tablefmt=\"fancy_grid\")\n",
    "    print(table)\n",
    "    print()"
   ]
  },
  {
   "cell_type": "markdown",
   "metadata": {},
   "source": [
    "**It appears to me that the model does not always have the same understanding as we do. For example, I personally would say that 'green' and 'plant' are closer than 'green' and 'sky'. My guess is that this is due to the model being trained on news report, which might be biased.**"
   ]
  },
  {
   "cell_type": "markdown",
   "metadata": {
    "jp-MarkdownHeadingCollapsed": true
   },
   "source": [
    "## Calculating nearest neighbors"
   ]
  },
  {
   "cell_type": "markdown",
   "metadata": {},
   "source": [
    "**It turns out that when we use all 3,000,000 embeddings we get some weird matches, like 'wearin_o', 'workers_differently_Corenthal', and 'QEII_TJ_Marta' for 'green'. For this reason, we also do a version where only use the top 10,000 words, i.e., the 10,000 most frequent words.**"
   ]
  },
  {
   "cell_type": "markdown",
   "metadata": {
    "jp-MarkdownHeadingCollapsed": true
   },
   "source": [
    "### Implementation"
   ]
  },
  {
   "cell_type": "code",
   "execution_count": 9,
   "metadata": {},
   "outputs": [],
   "source": [
    "def find_x(x, Y):\n",
    "    \"\"\"\n",
    "    Helper functions that finds a 1d array x from a 2d array Y, if present.\n",
    "    \"\"\"\n",
    "    x, Y = convert_inputs(x, Y)\n",
    "    Y = Y.T\n",
    "    row_indices = np.where((Y == x).all(axis=1, keepdims=True))[0]\n",
    "    return row_indices\n",
    "\n",
    "def knn(x, Y, k=10, sim_metric=cos_sim):\n",
    "    \"\"\"\n",
    "    Returns the indices and similarity values of the k closest values of Y to x.\n",
    "    \"\"\"\n",
    "    sims = sim_metric(x, Y)\n",
    "    idx = find_x(x, Y) # finding the index of the word in order to exlude it\n",
    "    sims[idx] = -np.inf # excluding the word itself\n",
    "    indices = np.argpartition(sims, -k)[-k:] # getting the top k word\n",
    "    indices = indices[np.argsort(sims[indices])][::-1] # sorting the indices in descending order\n",
    "    return indices, sims[indices]"
   ]
  },
  {
   "cell_type": "markdown",
   "metadata": {
    "jp-MarkdownHeadingCollapsed": true
   },
   "source": [
    "### kNN based on cosine similarity"
   ]
  },
  {
   "cell_type": "markdown",
   "metadata": {
    "jp-MarkdownHeadingCollapsed": true
   },
   "source": [
    "#### Using all embeddings"
   ]
  },
  {
   "cell_type": "code",
   "execution_count": 10,
   "metadata": {
    "scrolled": true
   },
   "outputs": [
    {
     "name": "stderr",
     "output_type": "stream",
     "text": [
      "100%|██████████| 5/5 [00:12<00:00,  2.57s/it]"
     ]
    },
    {
     "name": "stdout",
     "output_type": "stream",
     "text": [
      "╒═══╤═══════╤═══════════════════════════════╤══════════╕\n",
      "│ 0 │ green │ wearin_o                      │ 0.575597 │\n",
      "├───┼───────┼───────────────────────────────┼──────────┤\n",
      "│ 1 │ green │ greener                       │ 0.549947 │\n",
      "├───┼───────┼───────────────────────────────┼──────────┤\n",
      "│ 2 │ green │ workers_differently_Corenthal │ 0.542416 │\n",
      "├───┼───────┼───────────────────────────────┼──────────┤\n",
      "│ 3 │ green │ QEII_TJ_Marta                 │ 0.540607 │\n",
      "├───┼───────┼───────────────────────────────┼──────────┤\n",
      "│ 4 │ green │ red                           │ 0.536024 │\n",
      "├───┼───────┼───────────────────────────────┼──────────┤\n",
      "│ 5 │ green │ Leyritz_Ford_Expedition       │ 0.528963 │\n",
      "├───┼───────┼───────────────────────────────┼──────────┤\n",
      "│ 6 │ green │ greening                      │ 0.5262   │\n",
      "├───┼───────┼───────────────────────────────┼──────────┤\n",
      "│ 7 │ green │ Pentwater_Civic               │ 0.523985 │\n",
      "├───┼───────┼───────────────────────────────┼──────────┤\n",
      "│ 8 │ green │ Kimmie_Mi_Hyun_Kim            │ 0.521466 │\n",
      "├───┼───────┼───────────────────────────────┼──────────┤\n",
      "│ 9 │ green │ eco_friendly                  │ 0.515699 │\n",
      "╘═══╧═══════╧═══════════════════════════════╧══════════╛\n",
      "\n",
      "╒═══╤═════════╤═════════════════════════╤══════════╕\n",
      "│ 0 │ running │ Running                 │ 0.697858 │\n",
      "├───┼─────────┼─────────────────────────┼──────────┤\n",
      "│ 1 │ running │ ran                     │ 0.608494 │\n",
      "├───┼─────────┼─────────────────────────┼──────────┤\n",
      "│ 2 │ running │ run                     │ 0.606297 │\n",
      "├───┼─────────┼─────────────────────────┼──────────┤\n",
      "│ 3 │ running │ runnning                │ 0.553288 │\n",
      "├───┼─────────┼─────────────────────────┼──────────┤\n",
      "│ 4 │ running │ runing                  │ 0.542677 │\n",
      "├───┼─────────┼─────────────────────────┼──────────┤\n",
      "│ 5 │ running │ rushing                 │ 0.453321 │\n",
      "├───┼─────────┼─────────────────────────┼──────────┤\n",
      "│ 6 │ running │ Tauni_Vakapuna          │ 0.442825 │\n",
      "├───┼─────────┼─────────────────────────┼──────────┤\n",
      "│ 7 │ running │ Warrick_Dunn_TJ_Duckett │ 0.439999 │\n",
      "├───┼─────────┼─────────────────────────┼──────────┤\n",
      "│ 8 │ running │ VJ_Floyd                │ 0.436432 │\n",
      "├───┼─────────┼─────────────────────────┼──────────┤\n",
      "│ 9 │ running │ Evin_Groves             │ 0.430975 │\n",
      "╘═══╧═════════╧═════════════════════════╧══════════╛\n",
      "\n",
      "╒═══╤════════════╤════════════════╤══════════╕\n",
      "│ 0 │ girlfriend │ boyfriend      │ 0.88046  │\n",
      "├───┼────────────┼────────────────┼──────────┤\n",
      "│ 1 │ girlfriend │ fiancee        │ 0.860103 │\n",
      "├───┼────────────┼────────────────┼──────────┤\n",
      "│ 2 │ girlfriend │ ex_girlfriend  │ 0.853219 │\n",
      "├───┼────────────┼────────────────┼──────────┤\n",
      "│ 3 │ girlfriend │ fiancée        │ 0.841682 │\n",
      "├───┼────────────┼────────────────┼──────────┤\n",
      "│ 4 │ girlfriend │ fiance         │ 0.809547 │\n",
      "├───┼────────────┼────────────────┼──────────┤\n",
      "│ 5 │ girlfriend │ fiancé         │ 0.796843 │\n",
      "├───┼────────────┼────────────────┼──────────┤\n",
      "│ 6 │ girlfriend │ ex_boyfriend   │ 0.749249 │\n",
      "├───┼────────────┼────────────────┼──────────┤\n",
      "│ 7 │ girlfriend │ fianceé        │ 0.722903 │\n",
      "├───┼────────────┼────────────────┼──────────┤\n",
      "│ 8 │ girlfriend │ roommate       │ 0.717702 │\n",
      "├───┼────────────┼────────────────┼──────────┤\n",
      "│ 9 │ girlfriend │ estranged_wife │ 0.716192 │\n",
      "╘═══╧════════════╧════════════════╧══════════╛\n",
      "\n",
      "╒═══╤════════╤══════════════════════╤══════════╕\n",
      "│ 0 │ window │ windows              │ 0.726091 │\n",
      "├───┼────────┼──────────────────────┼──────────┤\n",
      "│ 1 │ window │ door                 │ 0.62128  │\n",
      "├───┼────────┼──────────────────────┼──────────┤\n",
      "│ 2 │ window │ window_pane          │ 0.620817 │\n",
      "├───┼────────┼──────────────────────┼──────────┤\n",
      "│ 3 │ window │ doorway              │ 0.608578 │\n",
      "├───┼────────┼──────────────────────┼──────────┤\n",
      "│ 4 │ window │ windshield           │ 0.580263 │\n",
      "├───┼────────┼──────────────────────┼──────────┤\n",
      "│ 5 │ window │ sliding_glass        │ 0.571744 │\n",
      "├───┼────────┼──────────────────────┼──────────┤\n",
      "│ 6 │ window │ glass_pane           │ 0.553986 │\n",
      "├───┼────────┼──────────────────────┼──────────┤\n",
      "│ 7 │ window │ doors                │ 0.552305 │\n",
      "├───┼────────┼──────────────────────┼──────────┤\n",
      "│ 8 │ window │ skylight             │ 0.551385 │\n",
      "├───┼────────┼──────────────────────┼──────────┤\n",
      "│ 9 │ window │ shootdown_presumably │ 0.543138 │\n",
      "╘═══╧════════╧══════════════════════╧══════════╛\n",
      "\n",
      "╒═══╤═════════╤════════════╤══════════╕\n",
      "│ 0 │ helping │ Helping    │ 0.668896 │\n",
      "├───┼─────────┼────────────┼──────────┤\n",
      "│ 1 │ helping │ assisting  │ 0.653807 │\n",
      "├───┼─────────┼────────────┼──────────┤\n",
      "│ 2 │ helping │ helped     │ 0.649302 │\n",
      "├───┼─────────┼────────────┼──────────┤\n",
      "│ 3 │ helping │ help       │ 0.643272 │\n",
      "├───┼─────────┼────────────┼──────────┤\n",
      "│ 4 │ helping │ helps      │ 0.594067 │\n",
      "├───┼─────────┼────────────┼──────────┤\n",
      "│ 5 │ helping │ trying     │ 0.592784 │\n",
      "├───┼─────────┼────────────┼──────────┤\n",
      "│ 6 │ helping │ aiding     │ 0.57263  │\n",
      "├───┼─────────┼────────────┼──────────┤\n",
      "│ 7 │ helping │ enabling   │ 0.558185 │\n",
      "├───┼─────────┼────────────┼──────────┤\n",
      "│ 8 │ helping │ attempting │ 0.525828 │\n",
      "├───┼─────────┼────────────┼──────────┤\n",
      "│ 9 │ helping │ striving   │ 0.495347 │\n",
      "╘═══╧═════════╧════════════╧══════════╛\n",
      "\n"
     ]
    },
    {
     "name": "stderr",
     "output_type": "stream",
     "text": [
      "\n"
     ]
    }
   ],
   "source": [
    "results_cos = []\n",
    "for elem in tqdm(words):\n",
    "    word = elem[\"source\"]\n",
    "    indices, similarities = knn(model[word], embedding_matrix)\n",
    "    results_cos.append({\"source\": word, \"indices\": indices, \"similarities\": similarities})\n",
    "\n",
    "for elem in results_cos:\n",
    "    temp = {\"src\": elem[\"source\"],\n",
    "            \"res\": [model.index_to_key[idx] for idx in elem[\"indices\"]],\n",
    "            \"sim\": elem[\"similarities\"]}\n",
    "    df = pd.DataFrame(temp)\n",
    "    table = tabulate(df, tablefmt=\"fancy_grid\")\n",
    "    print(table)\n",
    "    print()"
   ]
  },
  {
   "cell_type": "markdown",
   "metadata": {
    "jp-MarkdownHeadingCollapsed": true
   },
   "source": [
    "#### Using the top 10,000 embeddings"
   ]
  },
  {
   "cell_type": "code",
   "execution_count": 11,
   "metadata": {
    "scrolled": true
   },
   "outputs": [
    {
     "name": "stderr",
     "output_type": "stream",
     "text": [
      "100%|██████████| 5/5 [00:00<00:00, 173.52it/s]"
     ]
    },
    {
     "name": "stdout",
     "output_type": "stream",
     "text": [
      "╒═══╤═══════╤══════════════════╤══════════╕\n",
      "│ 0 │ green │ red              │ 0.536024 │\n",
      "├───┼───────┼──────────────────┼──────────┤\n",
      "│ 1 │ green │ yellow           │ 0.493958 │\n",
      "├───┼───────┼──────────────────┼──────────┤\n",
      "│ 2 │ green │ blue             │ 0.492465 │\n",
      "├───┼───────┼──────────────────┼──────────┤\n",
      "│ 3 │ green │ Green            │ 0.488492 │\n",
      "├───┼───────┼──────────────────┼──────────┤\n",
      "│ 4 │ green │ brown            │ 0.459749 │\n",
      "├───┼───────┼──────────────────┼──────────┤\n",
      "│ 5 │ green │ orange           │ 0.442939 │\n",
      "├───┼───────┼──────────────────┼──────────┤\n",
      "│ 6 │ green │ pink             │ 0.426737 │\n",
      "├───┼───────┼──────────────────┼──────────┤\n",
      "│ 7 │ green │ sustainability   │ 0.414324 │\n",
      "├───┼───────┼──────────────────┼──────────┤\n",
      "│ 8 │ green │ renewable_energy │ 0.402405 │\n",
      "├───┼───────┼──────────────────┼──────────┤\n",
      "│ 9 │ green │ gray             │ 0.399266 │\n",
      "╘═══╧═══════╧══════════════════╧══════════╛\n",
      "\n",
      "╒═══╤═════════╤═══════════╤══════════╕\n",
      "│ 0 │ running │ Running   │ 0.697858 │\n",
      "├───┼─────────┼───────────┼──────────┤\n",
      "│ 1 │ running │ ran       │ 0.608494 │\n",
      "├───┼─────────┼───────────┼──────────┤\n",
      "│ 2 │ running │ run       │ 0.606297 │\n",
      "├───┼─────────┼───────────┼──────────┤\n",
      "│ 3 │ running │ rushing   │ 0.453321 │\n",
      "├───┼─────────┼───────────┼──────────┤\n",
      "│ 4 │ running │ coming    │ 0.424612 │\n",
      "├───┼─────────┼───────────┼──────────┤\n",
      "│ 5 │ running │ switching │ 0.415088 │\n",
      "├───┼─────────┼───────────┼──────────┤\n",
      "│ 6 │ running │ going     │ 0.405434 │\n",
      "├───┼─────────┼───────────┼──────────┤\n",
      "│ 7 │ running │ moving    │ 0.39978  │\n",
      "├───┼─────────┼───────────┼──────────┤\n",
      "│ 8 │ running │ rolling   │ 0.390527 │\n",
      "├───┼─────────┼───────────┼──────────┤\n",
      "│ 9 │ running │ pulling   │ 0.389921 │\n",
      "╘═══╧═════════╧═══════════╧══════════╛\n",
      "\n",
      "╒═══╤════════════╤═══════════╤══════════╕\n",
      "│ 0 │ girlfriend │ boyfriend │ 0.88046  │\n",
      "├───┼────────────┼───────────┼──────────┤\n",
      "│ 1 │ girlfriend │ wife      │ 0.710216 │\n",
      "├───┼────────────┼───────────┼──────────┤\n",
      "│ 2 │ girlfriend │ daughter  │ 0.65052  │\n",
      "├───┼────────────┼───────────┼──────────┤\n",
      "│ 3 │ girlfriend │ mother    │ 0.642672 │\n",
      "├───┼────────────┼───────────┼──────────┤\n",
      "│ 4 │ girlfriend │ friend    │ 0.622629 │\n",
      "├───┼────────────┼───────────┼──────────┤\n",
      "│ 5 │ girlfriend │ husband   │ 0.604123 │\n",
      "├───┼────────────┼───────────┼──────────┤\n",
      "│ 6 │ girlfriend │ cousin    │ 0.592556 │\n",
      "├───┼────────────┼───────────┼──────────┤\n",
      "│ 7 │ girlfriend │ son       │ 0.553613 │\n",
      "├───┼────────────┼───────────┼──────────┤\n",
      "│ 8 │ girlfriend │ sister    │ 0.549616 │\n",
      "├───┼────────────┼───────────┼──────────┤\n",
      "│ 9 │ girlfriend │ girl      │ 0.531714 │\n",
      "╘═══╧════════════╧═══════════╧══════════╛\n",
      "\n",
      "╒═══╤════════╤══════════╤══════════╕\n",
      "│ 0 │ window │ windows  │ 0.726091 │\n",
      "├───┼────────┼──────────┼──────────┤\n",
      "│ 1 │ window │ door     │ 0.62128  │\n",
      "├───┼────────┼──────────┼──────────┤\n",
      "│ 2 │ window │ doors    │ 0.552305 │\n",
      "├───┼────────┼──────────┼──────────┤\n",
      "│ 3 │ window │ roof     │ 0.487227 │\n",
      "├───┼────────┼──────────┼──────────┤\n",
      "│ 4 │ window │ wall     │ 0.436937 │\n",
      "├───┼────────┼──────────┼──────────┤\n",
      "│ 5 │ window │ glass    │ 0.421937 │\n",
      "├───┼────────┼──────────┼──────────┤\n",
      "│ 6 │ window │ ceiling  │ 0.419628 │\n",
      "├───┼────────┼──────────┼──────────┤\n",
      "│ 7 │ window │ mirror   │ 0.412364 │\n",
      "├───┼────────┼──────────┼──────────┤\n",
      "│ 8 │ window │ garage   │ 0.406263 │\n",
      "├───┼────────┼──────────┼──────────┤\n",
      "│ 9 │ window │ bathroom │ 0.406223 │\n",
      "╘═══╧════════╧══════════╧══════════╛\n",
      "\n",
      "╒═══╤═════════╤════════════╤══════════╕\n",
      "│ 0 │ helping │ assisting  │ 0.653807 │\n",
      "├───┼─────────┼────────────┼──────────┤\n",
      "│ 1 │ helping │ helped     │ 0.649302 │\n",
      "├───┼─────────┼────────────┼──────────┤\n",
      "│ 2 │ helping │ help       │ 0.643272 │\n",
      "├───┼─────────┼────────────┼──────────┤\n",
      "│ 3 │ helping │ helps      │ 0.594067 │\n",
      "├───┼─────────┼────────────┼──────────┤\n",
      "│ 4 │ helping │ trying     │ 0.592784 │\n",
      "├───┼─────────┼────────────┼──────────┤\n",
      "│ 5 │ helping │ enabling   │ 0.558185 │\n",
      "├───┼─────────┼────────────┼──────────┤\n",
      "│ 6 │ helping │ attempting │ 0.525828 │\n",
      "├───┼─────────┼────────────┼──────────┤\n",
      "│ 7 │ helping │ providing  │ 0.494339 │\n",
      "├───┼─────────┼────────────┼──────────┤\n",
      "│ 8 │ helping │ able       │ 0.486927 │\n",
      "├───┼─────────┼────────────┼──────────┤\n",
      "│ 9 │ helping │ supporting │ 0.484224 │\n",
      "╘═══╧═════════╧════════════╧══════════╛\n",
      "\n"
     ]
    },
    {
     "name": "stderr",
     "output_type": "stream",
     "text": [
      "\n"
     ]
    }
   ],
   "source": [
    "results_cos = []\n",
    "for elem in tqdm(words):\n",
    "    word = elem[\"source\"]\n",
    "    indices, similarities = knn(model[word], embedding_matrix[:10_000, :])\n",
    "    results_cos.append({\"source\": word, \"indices\": indices, \"similarities\": similarities})\n",
    "\n",
    "for elem in results_cos:\n",
    "    temp = {\"src\": elem[\"source\"],\n",
    "            \"res\": [model.index_to_key[idx] for idx in elem[\"indices\"]],\n",
    "            \"sim\": elem[\"similarities\"]}\n",
    "    df = pd.DataFrame(temp)\n",
    "    table = tabulate(df, tablefmt=\"fancy_grid\")\n",
    "    print(table)\n",
    "    print()"
   ]
  },
  {
   "cell_type": "markdown",
   "metadata": {
    "jp-MarkdownHeadingCollapsed": true
   },
   "source": [
    "### kNN based on dot product"
   ]
  },
  {
   "cell_type": "code",
   "execution_count": 12,
   "metadata": {},
   "outputs": [],
   "source": [
    "def dot(x, Y):\n",
    "    \"\"\"\n",
    "    Calculates the dot product between a vector x and a matrix Y. This is its own function for input handling purposes.\n",
    "    \"\"\"\n",
    "    x, Y = convert_inputs(x, Y)\n",
    "    return x @ Y"
   ]
  },
  {
   "cell_type": "markdown",
   "metadata": {
    "jp-MarkdownHeadingCollapsed": true
   },
   "source": [
    "#### Using all embeddings"
   ]
  },
  {
   "cell_type": "code",
   "execution_count": 13,
   "metadata": {
    "scrolled": true
   },
   "outputs": [
    {
     "name": "stderr",
     "output_type": "stream",
     "text": [
      "100%|██████████| 5/5 [00:03<00:00,  1.49it/s]"
     ]
    },
    {
     "name": "stdout",
     "output_type": "stream",
     "text": [
      "╒═══╤═══════╤═══════════════════════════╤═════════╕\n",
      "│ 0 │ green │ AZ_az_,0_9                │ 6.77562 │\n",
      "├───┼───────┼───────────────────────────┼─────────┤\n",
      "│ 1 │ green │ pot_bunker                │ 6.17658 │\n",
      "├───┼───────┼───────────────────────────┼─────────┤\n",
      "│ 2 │ green │ Newspapers_below          │ 5.85016 │\n",
      "├───┼───────┼───────────────────────────┼─────────┤\n",
      "│ 3 │ green │ Environmental_Design_LEED │ 5.80033 │\n",
      "├───┼───────┼───────────────────────────┼─────────┤\n",
      "│ 4 │ green │ validate_breakout         │ 5.55656 │\n",
      "├───┼───────┼───────────────────────────┼─────────┤\n",
      "│ 5 │ green │ Trend_Appearin_Aug.       │ 5.51186 │\n",
      "├───┼───────┼───────────────────────────┼─────────┤\n",
      "│ 6 │ green │ fairway_bunker            │ 5.24974 │\n",
      "├───┼───────┼───────────────────────────┼─────────┤\n",
      "│ 7 │ green │ greener                   │ 5.24185 │\n",
      "├───┼───────┼───────────────────────────┼─────────┤\n",
      "│ 8 │ green │ birdie_putt               │ 5.1139  │\n",
      "├───┼───────┼───────────────────────────┼─────────┤\n",
      "│ 9 │ green │ foster_feeling            │ 5.05795 │\n",
      "╘═══╧═══════╧═══════════════════════════╧═════════╛\n",
      "\n",
      "╒═══╤═════════╤═══════════════════════════════╤═════════╕\n",
      "│ 0 │ running │ sleek_Palm_PDA                │ 6.18591 │\n",
      "├───┼─────────┼───────────────────────────────┼─────────┤\n",
      "│ 1 │ running │ Knobias_RAiDAR_providing      │ 5.17483 │\n",
      "├───┼─────────┼───────────────────────────────┼─────────┤\n",
      "│ 2 │ running │ reader_interaction_discussion │ 4.96429 │\n",
      "├───┼─────────┼───────────────────────────────┼─────────┤\n",
      "│ 3 │ running │ Running                       │ 4.84042 │\n",
      "├───┼─────────┼───────────────────────────────┼─────────┤\n",
      "│ 4 │ running │ Pinging                       │ 4.71199 │\n",
      "├───┼─────────┼───────────────────────────────┼─────────┤\n",
      "│ 5 │ running │ ABQTrib.com                   │ 4.58823 │\n",
      "├───┼─────────┼───────────────────────────────┼─────────┤\n",
      "│ 6 │ running │ SqueezeTrigger_database       │ 4.57587 │\n",
      "├───┼─────────┼───────────────────────────────┼─────────┤\n",
      "│ 7 │ running │ Doak_Walker_Award             │ 4.32837 │\n",
      "├───┼─────────┼───────────────────────────────┼─────────┤\n",
      "│ 8 │ running │ alerts_delivered              │ 4.25168 │\n",
      "├───┼─────────┼───────────────────────────────┼─────────┤\n",
      "│ 9 │ running │ yard_rushers                  │ 4.17452 │\n",
      "╘═══╧═════════╧═══════════════════════════════╧═════════╛\n",
      "\n",
      "╒═══╤════════════╤═══════════════════════════════════════════╤══════════╕\n",
      "│ 0 │ girlfriend │ See_detailed_clickable                    │ 12.2737  │\n",
      "├───┼────────────┼───────────────────────────────────────────┼──────────┤\n",
      "│ 1 │ girlfriend │ please_visit_http://www.TradeTheTrend.com │  9.58137 │\n",
      "├───┼────────────┼───────────────────────────────────────────┼──────────┤\n",
      "│ 2 │ girlfriend │ Charlotte_Observer_welcomes               │  9.49326 │\n",
      "├───┼────────────┼───────────────────────────────────────────┼──────────┤\n",
      "│ 3 │ girlfriend │ viewpoints_race                           │  9.1916  │\n",
      "├───┼────────────┼───────────────────────────────────────────┼──────────┤\n",
      "│ 4 │ girlfriend │ ex_girlfriend                             │  9.14937 │\n",
      "├───┼────────────┼───────────────────────────────────────────┼──────────┤\n",
      "│ 5 │ girlfriend │ unmatched_worldwide                       │  9.02703 │\n",
      "├───┼────────────┼───────────────────────────────────────────┼──────────┤\n",
      "│ 6 │ girlfriend │ reader_interaction_discussion             │  8.98312 │\n",
      "├───┼────────────┼───────────────────────────────────────────┼──────────┤\n",
      "│ 7 │ girlfriend │ your_bizjournals.com_account              │  8.87624 │\n",
      "├───┼────────────┼───────────────────────────────────────────┼──────────┤\n",
      "│ 8 │ girlfriend │ user_click                                │  8.7548  │\n",
      "├───┼────────────┼───────────────────────────────────────────┼──────────┤\n",
      "│ 9 │ girlfriend │ use_spamming                              │  8.75109 │\n",
      "╘═══╧════════════╧═══════════════════════════════════════════╧══════════╛\n",
      "\n",
      "╒═══╤════════╤═══════════════════════════════════════════════════════╤═════════╕\n",
      "│ 0 │ window │ auto_refresh_browser                                  │ 7.76354 │\n",
      "├───┼────────┼───────────────────────────────────────────────────────┼─────────┤\n",
      "│ 1 │ window │ unmatched_worldwide                                   │ 7.55429 │\n",
      "├───┼────────┼───────────────────────────────────────────────────────┼─────────┤\n",
      "│ 2 │ window │ Newspapers_below                                      │ 7.53389 │\n",
      "├───┼────────┼───────────────────────────────────────────────────────┼─────────┤\n",
      "│ 3 │ window │ corrections.usatoday.com                              │ 7.50978 │\n",
      "├───┼────────┼───────────────────────────────────────────────────────┼─────────┤\n",
      "│ 4 │ window │ ALSO_Video                                            │ 7.16944 │\n",
      "├───┼────────┼───────────────────────────────────────────────────────┼─────────┤\n",
      "│ 5 │ window │ select_Print                                          │ 7.02464 │\n",
      "├───┼────────┼───────────────────────────────────────────────────────┼─────────┤\n",
      "│ 6 │ window │ alerts_delivered                                      │ 6.77032 │\n",
      "├───┼────────┼───────────────────────────────────────────────────────┼─────────┤\n",
      "│ 7 │ window │ windows                                               │ 6.7584  │\n",
      "├───┼────────┼───────────────────────────────────────────────────────┼─────────┤\n",
      "│ 8 │ window │ http://www.nasdaq.com/reference/marketsite_events.stm │ 6.5383  │\n",
      "├───┼────────┼───────────────────────────────────────────────────────┼─────────┤\n",
      "│ 9 │ window │ free_CIVIL                                            │ 6.53069 │\n",
      "╘═══╧════════╧═══════════════════════════════════════════════════════╧═════════╛\n",
      "\n",
      "╒═══╤═════════╤══════════════════════════════════╤═════════╕\n",
      "│ 0 │ helping │ eyewitness_accounts_background   │ 8.16485 │\n",
      "├───┼─────────┼──────────────────────────────────┼─────────┤\n",
      "│ 1 │ helping │ Trail_rides_signify              │ 8.09637 │\n",
      "├───┼─────────┼──────────────────────────────────┼─────────┤\n",
      "│ 2 │ helping │ reader_interaction_discussion    │ 6.93625 │\n",
      "├───┼─────────┼──────────────────────────────────┼─────────┤\n",
      "│ 3 │ helping │ foster_feeling                   │ 6.82573 │\n",
      "├───┼─────────┼──────────────────────────────────┼─────────┤\n",
      "│ 4 │ helping │ upcoming_Hot_IPOs                │ 6.41373 │\n",
      "├───┼─────────┼──────────────────────────────────┼─────────┤\n",
      "│ 5 │ helping │ free_Yahoo!_Account              │ 6.29952 │\n",
      "├───┼─────────┼──────────────────────────────────┼─────────┤\n",
      "│ 6 │ helping │ threats_spam_lewd                │ 5.84045 │\n",
      "├───┼─────────┼──────────────────────────────────┼─────────┤\n",
      "│ 7 │ helping │ companies_Accenture_collaborates │ 5.77974 │\n",
      "├───┼─────────┼──────────────────────────────────┼─────────┤\n",
      "│ 8 │ helping │ sourced_direct                   │ 5.59353 │\n",
      "├───┼─────────┼──────────────────────────────────┼─────────┤\n",
      "│ 9 │ helping │ enjoy_fresnobee.com              │ 5.56162 │\n",
      "╘═══╧═════════╧══════════════════════════════════╧═════════╛\n",
      "\n"
     ]
    },
    {
     "name": "stderr",
     "output_type": "stream",
     "text": [
      "\n"
     ]
    }
   ],
   "source": [
    "results_dot = []\n",
    "for elem in tqdm(words):\n",
    "    word = elem[\"source\"]\n",
    "    indices, similarities = knn(model[word], embedding_matrix, sim_metric=dot)\n",
    "    results_dot.append({\"source\": word, \"indices\": indices, \"similarities\": similarities})\n",
    "\n",
    "for elem in results_dot:\n",
    "    temp = {\"src\": elem[\"source\"],\n",
    "            \"res\": [model.index_to_key[idx] for idx in elem[\"indices\"]],\n",
    "            \"sim\": elem[\"similarities\"]}\n",
    "    df = pd.DataFrame(temp)\n",
    "    table = tabulate(df, tablefmt=\"fancy_grid\")\n",
    "    print(table)\n",
    "    print()"
   ]
  },
  {
   "cell_type": "markdown",
   "metadata": {
    "jp-MarkdownHeadingCollapsed": true
   },
   "source": [
    "#### Using the top 10,000 embeddings"
   ]
  },
  {
   "cell_type": "code",
   "execution_count": 14,
   "metadata": {
    "scrolled": true
   },
   "outputs": [
    {
     "name": "stderr",
     "output_type": "stream",
     "text": [
      "100%|██████████| 5/5 [00:00<00:00, 521.76it/s]"
     ]
    },
    {
     "name": "stdout",
     "output_type": "stream",
     "text": [
      "╒═══╤═══════╤══════════════════╤═════════╕\n",
      "│ 0 │ green │ greens           │ 4.27324 │\n",
      "├───┼───────┼──────────────────┼─────────┤\n",
      "│ 1 │ green │ birdie           │ 4.13303 │\n",
      "├───┼───────┼──────────────────┼─────────┤\n",
      "│ 2 │ green │ tee              │ 3.96393 │\n",
      "├───┼───────┼──────────────────┼─────────┤\n",
      "│ 3 │ green │ renewable_energy │ 3.83775 │\n",
      "├───┼───────┼──────────────────┼─────────┤\n",
      "│ 4 │ green │ yellow           │ 3.70807 │\n",
      "├───┼───────┼──────────────────┼─────────┤\n",
      "│ 5 │ green │ carbon           │ 3.5913  │\n",
      "├───┼───────┼──────────────────┼─────────┤\n",
      "│ 6 │ green │ red              │ 3.58333 │\n",
      "├───┼───────┼──────────────────┼─────────┤\n",
      "│ 7 │ green │ sustainability   │ 3.55586 │\n",
      "├───┼───────┼──────────────────┼─────────┤\n",
      "│ 8 │ green │ bogey            │ 3.44972 │\n",
      "├───┼───────┼──────────────────┼─────────┤\n",
      "│ 9 │ green │ orange           │ 3.39396 │\n",
      "╘═══╧═══════╧══════════════════╧═════════╛\n",
      "\n",
      "╒═══╤═════════╤════════════════╤═════════╕\n",
      "│ 0 │ running │ Running        │ 4.84042 │\n",
      "├───┼─────────┼────────────────┼─────────┤\n",
      "│ 1 │ running │ ran            │ 3.4304  │\n",
      "├───┼─────────┼────────────────┼─────────┤\n",
      "│ 2 │ running │ rushing        │ 3.19363 │\n",
      "├───┼─────────┼────────────────┼─────────┤\n",
      "│ 3 │ running │ run            │ 2.66485 │\n",
      "├───┼─────────┼────────────────┼─────────┤\n",
      "│ 4 │ running │ throwing       │ 2.43668 │\n",
      "├───┼─────────┼────────────────┼─────────┤\n",
      "│ 5 │ running │ pumping        │ 2.40482 │\n",
      "├───┼─────────┼────────────────┼─────────┤\n",
      "│ 6 │ running │ yard_touchdown │ 2.37977 │\n",
      "├───┼─────────┼────────────────┼─────────┤\n",
      "│ 7 │ running │ receivers      │ 2.37499 │\n",
      "├───┼─────────┼────────────────┼─────────┤\n",
      "│ 8 │ running │ stepping       │ 2.34505 │\n",
      "├───┼─────────┼────────────────┼─────────┤\n",
      "│ 9 │ running │ walking        │ 2.34267 │\n",
      "╘═══╧═════════╧════════════════╧═════════╛\n",
      "\n",
      "╒═══╤════════════╤═════════════════════╤═════════╕\n",
      "│ 0 │ girlfriend │ boyfriend           │ 8.33869 │\n",
      "├───┼────────────┼─────────────────────┼─────────┤\n",
      "│ 1 │ girlfriend │ wife                │ 5.86336 │\n",
      "├───┼────────────┼─────────────────────┼─────────┤\n",
      "│ 2 │ girlfriend │ report_abuse_button │ 5.82752 │\n",
      "├───┼────────────┼─────────────────────┼─────────┤\n",
      "│ 3 │ girlfriend │ daughter            │ 5.57057 │\n",
      "├───┼────────────┼─────────────────────┼─────────┤\n",
      "│ 4 │ girlfriend │ stabbed             │ 5.54261 │\n",
      "├───┼────────────┼─────────────────────┼─────────┤\n",
      "│ 5 │ girlfriend │ degree_murder       │ 5.45979 │\n",
      "├───┼────────────┼─────────────────────┼─────────┤\n",
      "│ 6 │ girlfriend │ Sports_Writer       │ 5.36671 │\n",
      "├───┼────────────┼─────────────────────┼─────────┤\n",
      "│ 7 │ girlfriend │ stabbing            │ 5.12935 │\n",
      "├───┼────────────┼─────────────────────┼─────────┤\n",
      "│ 8 │ girlfriend │ mother              │ 5.05658 │\n",
      "├───┼────────────┼─────────────────────┼─────────┤\n",
      "│ 9 │ girlfriend │ friend              │ 4.9706  │\n",
      "╘═══╧════════════╧═════════════════════╧═════════╛\n",
      "\n",
      "╒═══╤════════╤══════════╤═════════╕\n",
      "│ 0 │ window │ windows  │ 6.7584  │\n",
      "├───┼────────┼──────────┼─────────┤\n",
      "│ 1 │ window │ door     │ 4.99603 │\n",
      "├───┼────────┼──────────┼─────────┤\n",
      "│ 2 │ window │ doors    │ 4.64991 │\n",
      "├───┼────────┼──────────┼─────────┤\n",
      "│ 3 │ window │ roof     │ 4.07335 │\n",
      "├───┼────────┼──────────┼─────────┤\n",
      "│ 4 │ window │ ceiling  │ 3.60336 │\n",
      "├───┼────────┼──────────┼─────────┤\n",
      "│ 5 │ window │ bathroom │ 3.57605 │\n",
      "├───┼────────┼──────────┼─────────┤\n",
      "│ 6 │ window │ glass    │ 3.46483 │\n",
      "├───┼────────┼──────────┼─────────┤\n",
      "│ 7 │ window │ bedroom  │ 3.46371 │\n",
      "├───┼────────┼──────────┼─────────┤\n",
      "│ 8 │ window │ wall     │ 3.42057 │\n",
      "├───┼────────┼──────────┼─────────┤\n",
      "│ 9 │ window │ AP_Photo │ 3.37046 │\n",
      "╘═══╧════════╧══════════╧═════════╛\n",
      "\n",
      "╒═══╤═════════╤════════════╤═════════╕\n",
      "│ 0 │ helping │ helps      │ 4.25613 │\n",
      "├───┼─────────┼────────────┼─────────┤\n",
      "│ 1 │ helping │ helped     │ 4.24135 │\n",
      "├───┼─────────┼────────────┼─────────┤\n",
      "│ 2 │ helping │ assisting  │ 4.18302 │\n",
      "├───┼─────────┼────────────┼─────────┤\n",
      "│ 3 │ helping │ trying     │ 3.72608 │\n",
      "├───┼─────────┼────────────┼─────────┤\n",
      "│ 4 │ helping │ enabling   │ 3.49095 │\n",
      "├───┼─────────┼────────────┼─────────┤\n",
      "│ 5 │ helping │ attempting │ 3.38212 │\n",
      "├───┼─────────┼────────────┼─────────┤\n",
      "│ 6 │ helping │ enables    │ 3.26496 │\n",
      "├───┼─────────┼────────────┼─────────┤\n",
      "│ 7 │ helping │ Help       │ 3.21958 │\n",
      "├───┼─────────┼────────────┼─────────┤\n",
      "│ 8 │ helping │ help       │ 3.13283 │\n",
      "├───┼─────────┼────────────┼─────────┤\n",
      "│ 9 │ helping │ aims       │ 3.01524 │\n",
      "╘═══╧═════════╧════════════╧═════════╛\n",
      "\n"
     ]
    },
    {
     "name": "stderr",
     "output_type": "stream",
     "text": [
      "\n"
     ]
    }
   ],
   "source": [
    "results_dot = []\n",
    "for elem in tqdm(words):\n",
    "    word = elem[\"source\"]\n",
    "    indices, similarities = knn(model[word], embedding_matrix[:10_000, :], sim_metric=dot)\n",
    "    results_dot.append({\"source\": word, \"indices\": indices, \"similarities\": similarities})\n",
    "\n",
    "for elem in results_dot:\n",
    "    temp = {\"src\": elem[\"source\"],\n",
    "            \"res\": [model.index_to_key[idx] for idx in elem[\"indices\"]],\n",
    "            \"sim\": elem[\"similarities\"]}\n",
    "    df = pd.DataFrame(temp)\n",
    "    table = tabulate(df, tablefmt=\"fancy_grid\")\n",
    "    print(table)\n",
    "    print()"
   ]
  },
  {
   "cell_type": "markdown",
   "metadata": {
    "jp-MarkdownHeadingCollapsed": true
   },
   "source": [
    "### Comparing cosine and dot product"
   ]
  },
  {
   "cell_type": "code",
   "execution_count": 15,
   "metadata": {
    "scrolled": true
   },
   "outputs": [
    {
     "name": "stdout",
     "output_type": "stream",
     "text": [
      "green\n",
      "╒════╤══════════════════╤══════════════════╕\n",
      "│    │ Cosine           │ Dot Product      │\n",
      "╞════╪══════════════════╪══════════════════╡\n",
      "│  0 │ red              │ greens           │\n",
      "├────┼──────────────────┼──────────────────┤\n",
      "│  1 │ yellow           │ birdie           │\n",
      "├────┼──────────────────┼──────────────────┤\n",
      "│  2 │ blue             │ tee              │\n",
      "├────┼──────────────────┼──────────────────┤\n",
      "│  3 │ Green            │ renewable_energy │\n",
      "├────┼──────────────────┼──────────────────┤\n",
      "│  4 │ brown            │ yellow           │\n",
      "├────┼──────────────────┼──────────────────┤\n",
      "│  5 │ orange           │ carbon           │\n",
      "├────┼──────────────────┼──────────────────┤\n",
      "│  6 │ pink             │ red              │\n",
      "├────┼──────────────────┼──────────────────┤\n",
      "│  7 │ sustainability   │ sustainability   │\n",
      "├────┼──────────────────┼──────────────────┤\n",
      "│  8 │ renewable_energy │ bogey            │\n",
      "├────┼──────────────────┼──────────────────┤\n",
      "│  9 │ gray             │ orange           │\n",
      "╘════╧══════════════════╧══════════════════╛\n",
      "\n",
      "running\n",
      "╒════╤═══════════╤════════════════╕\n",
      "│    │ Cosine    │ Dot Product    │\n",
      "╞════╪═══════════╪════════════════╡\n",
      "│  0 │ Running   │ Running        │\n",
      "├────┼───────────┼────────────────┤\n",
      "│  1 │ ran       │ ran            │\n",
      "├────┼───────────┼────────────────┤\n",
      "│  2 │ run       │ rushing        │\n",
      "├────┼───────────┼────────────────┤\n",
      "│  3 │ rushing   │ run            │\n",
      "├────┼───────────┼────────────────┤\n",
      "│  4 │ coming    │ throwing       │\n",
      "├────┼───────────┼────────────────┤\n",
      "│  5 │ switching │ pumping        │\n",
      "├────┼───────────┼────────────────┤\n",
      "│  6 │ going     │ yard_touchdown │\n",
      "├────┼───────────┼────────────────┤\n",
      "│  7 │ moving    │ receivers      │\n",
      "├────┼───────────┼────────────────┤\n",
      "│  8 │ rolling   │ stepping       │\n",
      "├────┼───────────┼────────────────┤\n",
      "│  9 │ pulling   │ walking        │\n",
      "╘════╧═══════════╧════════════════╛\n",
      "\n",
      "girlfriend\n",
      "╒════╤═══════════╤═════════════════════╕\n",
      "│    │ Cosine    │ Dot Product         │\n",
      "╞════╪═══════════╪═════════════════════╡\n",
      "│  0 │ boyfriend │ boyfriend           │\n",
      "├────┼───────────┼─────────────────────┤\n",
      "│  1 │ wife      │ wife                │\n",
      "├────┼───────────┼─────────────────────┤\n",
      "│  2 │ daughter  │ report_abuse_button │\n",
      "├────┼───────────┼─────────────────────┤\n",
      "│  3 │ mother    │ daughter            │\n",
      "├────┼───────────┼─────────────────────┤\n",
      "│  4 │ friend    │ stabbed             │\n",
      "├────┼───────────┼─────────────────────┤\n",
      "│  5 │ husband   │ degree_murder       │\n",
      "├────┼───────────┼─────────────────────┤\n",
      "│  6 │ cousin    │ Sports_Writer       │\n",
      "├────┼───────────┼─────────────────────┤\n",
      "│  7 │ son       │ stabbing            │\n",
      "├────┼───────────┼─────────────────────┤\n",
      "│  8 │ sister    │ mother              │\n",
      "├────┼───────────┼─────────────────────┤\n",
      "│  9 │ girl      │ friend              │\n",
      "╘════╧═══════════╧═════════════════════╛\n",
      "\n",
      "window\n",
      "╒════╤══════════╤═══════════════╕\n",
      "│    │ Cosine   │ Dot Product   │\n",
      "╞════╪══════════╪═══════════════╡\n",
      "│  0 │ windows  │ windows       │\n",
      "├────┼──────────┼───────────────┤\n",
      "│  1 │ door     │ door          │\n",
      "├────┼──────────┼───────────────┤\n",
      "│  2 │ doors    │ doors         │\n",
      "├────┼──────────┼───────────────┤\n",
      "│  3 │ roof     │ roof          │\n",
      "├────┼──────────┼───────────────┤\n",
      "│  4 │ wall     │ ceiling       │\n",
      "├────┼──────────┼───────────────┤\n",
      "│  5 │ glass    │ bathroom      │\n",
      "├────┼──────────┼───────────────┤\n",
      "│  6 │ ceiling  │ glass         │\n",
      "├────┼──────────┼───────────────┤\n",
      "│  7 │ mirror   │ bedroom       │\n",
      "├────┼──────────┼───────────────┤\n",
      "│  8 │ garage   │ wall          │\n",
      "├────┼──────────┼───────────────┤\n",
      "│  9 │ bathroom │ AP_Photo      │\n",
      "╘════╧══════════╧═══════════════╛\n",
      "\n",
      "helping\n",
      "╒════╤════════════╤═══════════════╕\n",
      "│    │ Cosine     │ Dot Product   │\n",
      "╞════╪════════════╪═══════════════╡\n",
      "│  0 │ assisting  │ helps         │\n",
      "├────┼────────────┼───────────────┤\n",
      "│  1 │ helped     │ helped        │\n",
      "├────┼────────────┼───────────────┤\n",
      "│  2 │ help       │ assisting     │\n",
      "├────┼────────────┼───────────────┤\n",
      "│  3 │ helps      │ trying        │\n",
      "├────┼────────────┼───────────────┤\n",
      "│  4 │ trying     │ enabling      │\n",
      "├────┼────────────┼───────────────┤\n",
      "│  5 │ enabling   │ attempting    │\n",
      "├────┼────────────┼───────────────┤\n",
      "│  6 │ attempting │ enables       │\n",
      "├────┼────────────┼───────────────┤\n",
      "│  7 │ providing  │ Help          │\n",
      "├────┼────────────┼───────────────┤\n",
      "│  8 │ able       │ help          │\n",
      "├────┼────────────┼───────────────┤\n",
      "│  9 │ supporting │ aims          │\n",
      "╘════╧════════════╧═══════════════╛\n",
      "\n"
     ]
    }
   ],
   "source": [
    "for cos_elem, dot_elem in zip(results_cos, results_dot):\n",
    "    temp = {\"cos\": [model.index_to_key[idx] for idx in cos_elem[\"indices\"]],\n",
    "            \"dot\": [model.index_to_key[idx] for idx in dot_elem[\"indices\"]]}\n",
    "    df = pd.DataFrame(temp)\n",
    "    headers = ['Cosine', 'Dot Product']\n",
    "    table = tabulate(df, tablefmt=\"fancy_grid\", headers=headers)\n",
    "    print(cos_elem[\"source\"])\n",
    "    print(table)\n",
    "    print()"
   ]
  },
  {
   "cell_type": "markdown",
   "metadata": {},
   "source": [
    "**We chose to show the results for the top 10,000 embeddings, as these are less obscure.**\n",
    "\n",
    "**In my opinion, the cosine similarity produces better results.**"
   ]
  },
  {
   "cell_type": "markdown",
   "metadata": {},
   "source": [
    "<a name=\"section-taskB\"></a><h2 style=\"color:rgb(0,120,170)\">Task B: Document Classification with WE (15 points)</h2>"
   ]
  },
  {
   "cell_type": "markdown",
   "metadata": {},
   "source": [
    "\n",
    "This task follows the same instruction for document classification as provided in Assignment 1. You are indeed free to reuse any part of your code in Assignment 1 for this task. In Assignment 1, the representation of each document was created using a bag of words representation followed by dimensionality reduction. In this task, the document representations are created from the pre-trained word embeddings.\n",
    "\n",
    "**Map word embeddings to dictionary words (5 points).** For every word in the dictionary (as discussed and created in Assignment 1), fetch the corresponding word embedding from the pre-trained model. If no embedding is found, initialize the corresponding word embedding randomly.\n",
    "\n",
    "**Document embedding as the average of word embeddings (5 points).** Using the word embeddings, the representation of each document is defined as the *mean of the vectors of each document's words*. In particular, given the document $d$, consisting of words $\\left[ v_1, v_2, ..., v_{|d|} \\right]$, the document representation $\\mathbf{e}_d$ is defined as:\n",
    "\n",
    "$\\mathbf{e}_d = \\frac{1}{|d|}\\sum_{i=1}^{|d|}{\\mathbf{e}_{v_i}}$\n",
    "\n",
    "where $\\mathbf{e}_{v}$ is the vector of the word $v$, and $|d|$ is the length of the document.\n",
    "\n",
    "**Classification and evaluation (5 points)** Using these new document representations, apply <ins>three classification algorithms</ins> and report the evaluation results (based on accuracy metric) on the test set.\n",
    "\n"
   ]
  },
  {
   "cell_type": "code",
   "execution_count": 16,
   "metadata": {},
   "outputs": [
    {
     "data": {
      "text/plain": [
       "[('Germany', 0.7461062073707581),\n",
       " ('Austrian', 0.7455943822860718),\n",
       " ('Switzerland', 0.7306346297264099),\n",
       " ('Hungary', 0.6867430210113525),\n",
       " ('Slovakia', 0.6693456768989563),\n",
       " ('Austrians', 0.668468713760376),\n",
       " ('Croatia', 0.646854043006897),\n",
       " ('Innsbruck', 0.6342576146125793),\n",
       " ('Defending_champion_Markus_Brier', 0.6316500306129456),\n",
       " ('Czech_Republic', 0.6239066123962402)]"
      ]
     },
     "execution_count": 16,
     "metadata": {},
     "output_type": "execute_result"
    }
   ],
   "source": [
    "model.most_similar(\"Austria\")"
   ]
  },
  {
   "cell_type": "code",
   "execution_count": 17,
   "metadata": {},
   "outputs": [],
   "source": [
    "def clean_string(val):\n",
    "    if isinstance(val, str):\n",
    "        val = val.lower()\n",
    "        val = re.sub(r\"\\W\", \" \", val)\n",
    "        val = re.sub(r\"\\s{2,}\", \" \", val)\n",
    "        return val\n",
    "    else:\n",
    "        return val\n",
    "\n",
    "train = RAW_TRAIN.map(clean_string)\n",
    "val = RAW_VAL.map(clean_string)\n",
    "test = RAW_TEST.map(clean_string)\n",
    "\n",
    "train = train.map(lambda x: x.split() if isinstance(x, str) else x)\n",
    "val = val.map(lambda x: x.split() if isinstance(x, str) else x)\n",
    "test = test.map(lambda x: x.split() if isinstance(x, str) else x)"
   ]
  },
  {
   "cell_type": "code",
   "execution_count": 31,
   "metadata": {},
   "outputs": [
    {
     "data": {
      "text/plain": [
       "(12110,)"
      ]
     },
     "execution_count": 31,
     "metadata": {},
     "output_type": "execute_result"
    }
   ],
   "source": [
    "train[\"data\"].shape"
   ]
  },
  {
   "cell_type": "code",
   "execution_count": 25,
   "metadata": {},
   "outputs": [],
   "source": [
    "def get_embedding(word):  # get embedding of single words\n",
    "    try:\n",
    "        return model[word]\n",
    "    except KeyError:\n",
    "        default_rng = np.random.default_rng(42)\n",
    "        return default_rng.standard_normal(300)"
   ]
  },
  {
   "cell_type": "code",
   "execution_count": 26,
   "metadata": {},
   "outputs": [],
   "source": [
    "def get_sentence_embedding(sentence):  # get embedding of sentences via averaging\n",
    "    return np.mean(np.array([get_embedding(word) for word in sentence]), axis=0)"
   ]
  },
  {
   "cell_type": "code",
   "execution_count": 27,
   "metadata": {},
   "outputs": [],
   "source": [
    "def get_sentence_embeddings(sentences):  # get embedding of multiple sentences\n",
    "    return np.array([get_sentence_embedding(sentence) for sentence in sentences])"
   ]
  },
  {
   "cell_type": "code",
   "execution_count": 32,
   "metadata": {},
   "outputs": [],
   "source": [
    "train_embeddings = get_sentence_embeddings(train[\"data\"])\n",
    "val_embeddings = get_sentence_embeddings(val[\"data\"])\n",
    "test_embeddings = get_sentence_embeddings(test[\"data\"])"
   ]
  },
  {
   "cell_type": "code",
   "execution_count": 34,
   "metadata": {},
   "outputs": [
    {
     "name": "stdout",
     "output_type": "stream",
     "text": [
      "train_embeddings.shape=(12110, 300), val_embeddings.shape=(2596, 300), test_embeddings.shape=(2595, 300)\n"
     ]
    }
   ],
   "source": [
    "print(f\"{train_embeddings.shape=}, {val_embeddings.shape=}, {test_embeddings.shape=}\")  # inpect shapes"
   ]
  },
  {
   "cell_type": "markdown",
   "metadata": {},
   "source": [
    "Shapes seem correct!"
   ]
  },
  {
   "cell_type": "code",
   "execution_count": 44,
   "metadata": {},
   "outputs": [
    {
     "name": "stdout",
     "output_type": "stream",
     "text": [
      "              precision    recall  f1-score   support\n",
      "\n",
      "           0       0.11      0.11      0.11        53\n",
      "           1       0.12      0.11      0.11       122\n",
      "           2       0.32      0.34      0.33       140\n",
      "           3       0.53      0.55      0.54       420\n",
      "           4       0.68      0.67      0.67       665\n",
      "           5       0.10      0.12      0.11       113\n",
      "           6       0.03      0.04      0.03        28\n",
      "           7       0.13      0.16      0.14        38\n",
      "           8       0.26      0.31      0.29       102\n",
      "           9       0.59      0.55      0.57       546\n",
      "          10       0.38      0.39      0.39       195\n",
      "          11       0.37      0.32      0.34       174\n",
      "\n",
      "    accuracy                           0.47      2596\n",
      "   macro avg       0.30      0.31      0.30      2596\n",
      "weighted avg       0.48      0.47      0.48      2596\n",
      "\n"
     ]
    }
   ],
   "source": [
    "from sklearn.tree import DecisionTreeClassifier\n",
    "\n",
    "dt = DecisionTreeClassifier(random_state=42)\n",
    "dt.fit(train_embeddings, train[\"label\"])\n",
    "\n",
    "from sklearn.metrics import classification_report\n",
    "print(classification_report(val[\"label\"], dt.predict(val_embeddings)))"
   ]
  },
  {
   "cell_type": "code",
   "execution_count": 43,
   "metadata": {},
   "outputs": [
    {
     "name": "stdout",
     "output_type": "stream",
     "text": [
      "              precision    recall  f1-score   support\n",
      "\n",
      "           0       0.75      0.06      0.11        53\n",
      "           1       1.00      0.02      0.03       122\n",
      "           2       0.94      0.48      0.64       140\n",
      "           3       0.60      0.87      0.71       420\n",
      "           4       0.78      0.87      0.82       665\n",
      "           5       0.60      0.03      0.05       113\n",
      "           6       0.00      0.00      0.00        28\n",
      "           7       0.75      0.08      0.14        38\n",
      "           8       0.91      0.47      0.62       102\n",
      "           9       0.61      0.91      0.73       546\n",
      "          10       0.65      0.52      0.58       195\n",
      "          11       0.79      0.59      0.68       174\n",
      "\n",
      "    accuracy                           0.68      2596\n",
      "   macro avg       0.70      0.41      0.42      2596\n",
      "weighted avg       0.71      0.68      0.63      2596\n",
      "\n"
     ]
    },
    {
     "name": "stderr",
     "output_type": "stream",
     "text": [
      "/home/th3lias/.local/lib/python3.10/site-packages/sklearn/metrics/_classification.py:1471: UndefinedMetricWarning: Precision and F-score are ill-defined and being set to 0.0 in labels with no predicted samples. Use `zero_division` parameter to control this behavior.\n",
      "  _warn_prf(average, modifier, msg_start, len(result))\n",
      "/home/th3lias/.local/lib/python3.10/site-packages/sklearn/metrics/_classification.py:1471: UndefinedMetricWarning: Precision and F-score are ill-defined and being set to 0.0 in labels with no predicted samples. Use `zero_division` parameter to control this behavior.\n",
      "  _warn_prf(average, modifier, msg_start, len(result))\n",
      "/home/th3lias/.local/lib/python3.10/site-packages/sklearn/metrics/_classification.py:1471: UndefinedMetricWarning: Precision and F-score are ill-defined and being set to 0.0 in labels with no predicted samples. Use `zero_division` parameter to control this behavior.\n",
      "  _warn_prf(average, modifier, msg_start, len(result))\n"
     ]
    }
   ],
   "source": [
    "from sklearn.ensemble import RandomForestClassifier\n",
    "\n",
    "rfc = RandomForestClassifier(random_state=42)\n",
    "rfc.fit(train_embeddings, train[\"label\"])\n",
    "\n",
    "print(classification_report(val[\"label\"], rfc.predict(val_embeddings)))"
   ]
  },
  {
   "cell_type": "code",
   "execution_count": 45,
   "metadata": {},
   "outputs": [
    {
     "name": "stderr",
     "output_type": "stream",
     "text": [
      "/home/th3lias/.local/lib/python3.10/site-packages/sklearn/svm/_classes.py:32: FutureWarning: The default value of `dual` will change from `True` to `'auto'` in 1.5. Set the value of `dual` explicitly to suppress the warning.\n",
      "  warnings.warn(\n"
     ]
    },
    {
     "name": "stdout",
     "output_type": "stream",
     "text": [
      "              precision    recall  f1-score   support\n",
      "\n",
      "           0       0.63      0.23      0.33        53\n",
      "           1       0.50      0.11      0.18       122\n",
      "           2       0.90      0.82      0.86       140\n",
      "           3       0.74      0.90      0.82       420\n",
      "           4       0.90      0.91      0.91       665\n",
      "           5       0.66      0.39      0.49       113\n",
      "           6       0.70      0.25      0.37        28\n",
      "           7       0.75      0.63      0.69        38\n",
      "           8       0.90      0.75      0.82       102\n",
      "           9       0.76      0.91      0.83       546\n",
      "          10       0.71      0.73      0.72       195\n",
      "          11       0.81      0.86      0.84       174\n",
      "\n",
      "    accuracy                           0.80      2596\n",
      "   macro avg       0.75      0.62      0.65      2596\n",
      "weighted avg       0.78      0.80      0.78      2596\n",
      "\n"
     ]
    },
    {
     "name": "stderr",
     "output_type": "stream",
     "text": [
      "/home/th3lias/.local/lib/python3.10/site-packages/sklearn/svm/_base.py:1250: ConvergenceWarning: Liblinear failed to converge, increase the number of iterations.\n",
      "  warnings.warn(\n"
     ]
    }
   ],
   "source": [
    "from sklearn.svm import LinearSVC\n",
    "\n",
    "lsvc = LinearSVC(random_state=42)\n",
    "lsvc.fit(train_embeddings, train[\"label\"])\n",
    "\n",
    "print(classification_report(val[\"label\"], lsvc.predict(val_embeddings)))"
   ]
  },
  {
   "cell_type": "code",
   "execution_count": 47,
   "metadata": {},
   "outputs": [
    {
     "data": {
      "image/png": "[encoded data removed]",
      "text/plain": [
       "<Figure size 640x480 with 1 Axes>"
      ]
     },
     "metadata": {},
     "output_type": "display_data"
    }
   ],
   "source": [
    "# plot and compare the methods on the test set in simple bar chart\n",
    "\n",
    "from sklearn.metrics import accuracy_score\n",
    "\n",
    "methods = [\"Decision Tree\", \"Random Forest\", \"Linear SVM\"]\n",
    "accs = [accuracy_score(test[\"label\"], dt.predict(test_embeddings)),\n",
    "        accuracy_score(test[\"label\"], rfc.predict(test_embeddings)),\n",
    "        accuracy_score(test[\"label\"], lsvc.predict(test_embeddings))]\n",
    "sns.barplot(x=methods, y=accs)\n",
    "plt.title(\"Accuracy on test set\")\n",
    "plt.show()"
   ]
  },
  {
   "cell_type": "markdown",
   "metadata": {},
   "source": [
    "<a name=\"section-taskC\"></a><h2 style=\"color:rgb(0,120,170)\">Task C: Classification with sent2vec Document Embeddings (2 extra point)</h2>"
   ]
  },
  {
   "cell_type": "markdown",
   "metadata": {},
   "source": [
    "\n",
    "Sent2vec [1] suggests another unsupervised approach to creating document embeddings from the underlying word embeddings. First, using the provided code in the paper, train a sendtvec model on the training set to create document embeddings. Then, repeat Task B while using the document embeddings provided by sent2vec. Similar to Task 2, conduct the classification experiments and report evaluation results.\n",
    "\n",
    "[1] M. Pagliardini, P. Gupta, and M. Jaggi. Unsupervised Learning of Sentence Embeddings using Compositional n-Gram Features. In Proceedings of the conference of the North American Chapter of the Association for Computational Linguistics (NAACL), 2018.\n"
   ]
  },
  {
   "cell_type": "code",
   "execution_count": null,
   "metadata": {},
   "outputs": [],
   "source": []
  },
  {
   "cell_type": "code",
   "execution_count": null,
   "metadata": {},
   "outputs": [],
   "source": []
  }
 ],
 "metadata": {
  "kernelspec": {
   "display_name": "Python 3 (ipykernel)",
   "language": "python",
   "name": "python3"
  },
  "language_info": {
   "codemirror_mode": {
    "name": "ipython",
    "version": 3
   },
   "file_extension": ".py",
   "mimetype": "text/x-python",
   "name": "python",
   "nbconvert_exporter": "python",
   "pygments_lexer": "ipython3",
   "version": "3.10.12"
  }
 },
 "nbformat": 4,
 "nbformat_minor": 4
}
