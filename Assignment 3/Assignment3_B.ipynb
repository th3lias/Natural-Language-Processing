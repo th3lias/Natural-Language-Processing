{
 "cells": [
  {
   "cell_type": "markdown",
   "metadata": {
    "editable": true,
    "slideshow": {
     "slide_type": ""
    },
    "tags": []
   },
   "source": [
    "Please fill out the information of your group!\n",
    "\n",
    "| <p style=\"text-align: center;\">First Name</p>  | <p style=\"text-align: center;\">Family Name</p> | Matr.-No. |\n",
    "| ---------------------------------------------- | ---------------------------------------------- | -------- |\n",
    "| <p style=\"text-align: left\">Elias</p>| <p style=\"text-align: left\">Mindelberger</p> | k12043382 |\n",
    "| <p style=\"text-align: left\">Pascal</p>| <p style=\"text-align: left\">Pilz</p> | k12111234 |\n",
    "\n"
   ]
  },
  {
   "cell_type": "markdown",
   "metadata": {},
   "source": [
    "<h2 style=\"text-align: center\">344.075 KV: Natural Language Processing (WS2022/23)</h2>\n",
    "<h1 style=\"color:rgb(0,120,170)\">Assignment 3</h1>\n",
    "<h2 style=\"color:rgb(0,120,170)\">Document Classification with PyTorch and BERT</h2>"
   ]
  },
  {
   "cell_type": "markdown",
   "metadata": {},
   "source": [
    "<b>Terms of Use</b><br>\n",
    "This  material is prepared for educational purposes at the Johannes Kepler University (JKU) Linz, and is exclusively provided to the registered students of the mentioned course at JKU. It is strictly forbidden to distribute the current file, the contents of the assignment, and its solution. The use or reproduction of this manuscript is only allowed for educational purposes in non-profit organizations, while in this case, the explicit prior acceptance of the author(s) is required.\n",
    "\n",
    "**Authors:** Navid Rekab-saz, Oleg Lesota<br>\n"
   ]
  },
  {
   "cell_type": "markdown",
   "metadata": {},
   "source": [
    "<h2>Table of contents</h2>\n",
    "<ol>\n",
    "    <a href=\"#section-general-guidelines\"><li style=\"font-size:large;font-weight:bold\">General Guidelines</li></a>\n",
    "    <a href=\"#section-tensorboard\"><li style=\"font-size:large;font-weight:bold\">Bonus Task: Logging and Publishing Experiment Results (2 extra point)</li></a>\n",
    "    <a href=\"#section-taskA\"><li style=\"font-size:large;font-weight:bold\">Task A: Document Classification with PyTorch (25 points)</li></a>\n",
    "    <a href=\"#section-taskB\"><li style=\"font-size:large;font-weight:bold\">Task B: Document Classification with BERT (15 points)</li></a>\n",
    "    \n",
    "    \n",
    "</ol>"
   ]
  },
  {
   "cell_type": "markdown",
   "metadata": {},
   "source": [
    "<a name=\"section-general-guidelines\"></a><h2 style=\"color:rgb(0,120,170)\">General Guidelines</h2>"
   ]
  },
  {
   "cell_type": "markdown",
   "metadata": {},
   "source": [
    "### Assignment objective\n",
    "This assignment aims to provide the necessary practices for learning the principles of deep learning programing in NLP using PyTorch. To this end, Task A provides the space for becoming fully familiar with PyTorch programming by implementing a \"simple\" document (sentence) classification model with PyTorch, and Task B extends this classifier with a BERT model. As the assignment requires working with PyTorch and Huggingface Transformers, please familiarize yourself with these libraries using any possible available teaching resources in particular the libraries' documentations. The assignment has in total **40 points**, and also offers **2 extra points** which can cover any missing point.\n",
    "\n",
    "This Notebook encompasses all aspects of the assignment, namely the descriptions of tasks as well as your solutions and reports. Feel free to add any required cell for solutions. The cells can contain code, reports, charts, tables, or any other material, required for the assignment. Feel free to provide the solutions in an interactive and visual way! \n",
    "\n",
    "Please discuss any unclear point in the assignment in the provided forum in MOODLE. It is also encouraged to provide answers to your peer's questions. However when submitting a post, keep in mind to avoid providing solutions. Please let the tutor(s) know shall you find any error or unclarity in the assignment.\n"
   ]
  },
  {
   "cell_type": "markdown",
   "metadata": {
    "jp-MarkdownHeadingCollapsed": true
   },
   "source": [
    "### Libraries & Dataset\n",
    "\n",
    "The assignment should be implemented with recent versions of `Python`, `PyTorch` and, `transformers`. Any standard Python library can be used, so far that the library is free and can be simply installed using `pip` or `conda`. Examples of potentially useful libraries are `scikit-learn`, `numpy`, `scipy`, `gensim`, `nltk`, `spaCy`, and `AllenNLP`. Use the latest stable version of each library.\n",
    "\n",
    "To conduct the experiments, we use a subset of the `HumSet` dataset [1] (https://blog.thedeep.io/humset/). `HumSet` is created by the DEEP (https://www.thedeep.io) project – an open source platform which aims to facilitate processing of textual data for international humanitarian response organizations. The platform enables the classification of text excerpts, extracted from news and reports into a set of domain specific classes. The provided dataset contains the classes (labels) referring to the humanitarian sectors like agriculture, health, and protection. The dataset contains an overall number of 17,301 data points. \n",
    "\n",
    "Download the dataset from the Moodle page of the course.\n",
    "\n",
    "the provided zip file consists of the following files:\n",
    "- `thedeep.subset.train.txt`: Train set in csv format with three fields: sentence_id, text, and label.\n",
    "- `thedeep.subset.validation.txt`: Validation set in csv format with three fields: sentence_id, text, and label.\n",
    "- `thedeep.subset.test.txt`: Test set in csv format with three fields: sentence_id, text, and label.\n",
    "- `thedeep.subset.label.txt`: Captions of the labels.\n",
    "- `thedeep.ToU.txt`: Terms of use of the dataset.\n",
    "\n",
    "[1] HumSet: Dataset of Multilingual Information Extraction and Classification for Humanitarian Crises Response\n",
    "*Selim Fekih, Nicolo' Tamagnone, Benjamin Minixhofer, Ranjan Shrestha, Ximena Contla, Ewan Oglethorpe and Navid Rekabsaz.* \n",
    "In Findings of the 2022 Conference on Empirical Methods in Natural Language Processing (Findings of EMNLP), December 2022.\n"
   ]
  },
  {
   "cell_type": "markdown",
   "metadata": {},
   "source": [
    "### Submission\n",
    "\n",
    "Each group should submit the following two files:\n",
    "\n",
    "- One Jupyter Notebook file (`.ipynb`), containing all the code, results, visualizations, etc. **In the submitted Notebook, all the results and visualizations should already be present, and can be observed simply by loading the Notebook in a browser.** The Notebook must be self-contained, meaning that (if necessary) one can run all the cells from top to bottom without any error. Do not forget to put in your names and student numbers in the first cell of the Notebook. \n",
    "- The HTML file (`.html`) achieved from exporting the Jupyter Notebook to HTML (Download As HTML).\n",
    "\n",
    "You do not need to include the data files in the submission.\n",
    "\n"
   ]
  },
  {
   "cell_type": "markdown",
   "metadata": {},
   "source": [
    "<a name=\"section-tensorboard\"></a><h2 style=\"color:rgb(0,120,170)\">Bonus Task: Logging and Publishing Experiment Results (2 extra point)</h2>"
   ]
  },
  {
   "cell_type": "markdown",
   "metadata": {},
   "source": [
    "In all experiments of this assignment, use any experiment monitoring tool like [`TensorBoard`](https://www.tensorflow.org/tensorboard), [`wandb`](https://wandb.ai) to log and store all useful information about the training and evaluation of the models. Feel free to log any important aspect in particular the changes in evaluation results on validation, in training loss, and in learning rate.\n",
    "\n",
    "After finalizing all experiments and cleaning any unnecessary experiment, **provide the URL to the results monitoring page below**.\n",
    "\n",
    "For instance if using [`TensorBoard.dev`](https://tensorboard.dev), you can run the following command in the folder of log files: `tensorboard dev upload --name my_exp --logdir path/to/output_dir`, and take the provided URL to the TensorBoard's console.\n"
   ]
  },
  {
   "cell_type": "markdown",
   "metadata": {},
   "source": [
    "**URL :** *EDIT!*"
   ]
  },
  {
   "cell_type": "markdown",
   "metadata": {},
   "source": [
    "### Preparatory Tasks"
   ]
  },
  {
   "cell_type": "code",
   "execution_count": 1,
   "metadata": {},
   "outputs": [
    {
     "name": "stderr",
     "output_type": "stream",
     "text": [
      "[nltk_data] Downloading package punkt to\n",
      "[nltk_data]     /Users/pascalpilz/nltk_data...\n",
      "[nltk_data]   Package punkt is already up-to-date!\n",
      "[nltk_data] Downloading package stopwords to\n",
      "[nltk_data]     /Users/pascalpilz/nltk_data...\n",
      "[nltk_data]   Package stopwords is already up-to-date!\n",
      "[nltk_data] Downloading package wordnet to\n",
      "[nltk_data]     /Users/pascalpilz/nltk_data...\n",
      "[nltk_data]   Package wordnet is already up-to-date!\n"
     ]
    },
    {
     "data": {
      "text/plain": [
       "True"
      ]
     },
     "execution_count": 1,
     "metadata": {},
     "output_type": "execute_result"
    }
   ],
   "source": [
    "from nltk.tokenize import word_tokenize\n",
    "from nltk.stem import WordNetLemmatizer\n",
    "from matplotlib import pyplot as plt\n",
    "from nltk.corpus import stopwords\n",
    "import multiprocessing as mp\n",
    "import seaborn as sns\n",
    "from tqdm import tqdm\n",
    "import sklearn as skl\n",
    "import pandas as pd\n",
    "import numpy as np\n",
    "import scipy as sc\n",
    "import re as re\n",
    "import string\n",
    "import nltk\n",
    "\n",
    "nltk.download('punkt')\n",
    "nltk.download('stopwords')\n",
    "nltk.download('wordnet')"
   ]
  },
  {
   "cell_type": "code",
   "execution_count": 2,
   "metadata": {},
   "outputs": [],
   "source": [
    "DATA_PATH = r\"../nlp2023_24_data/\"\n",
    "\n",
    "TRAIN_PATH = DATA_PATH + \"thedeep.subset.train.txt\"\n",
    "VAL_PATH   = DATA_PATH + \"thedeep.subset.validation.txt\"\n",
    "TEST_PATH  = DATA_PATH + \"thedeep.subset.test.txt\"\n",
    "\n",
    "LABEL_LEGEND_PATH = DATA_PATH + \"thedeep.labels.txt\"\n",
    "\n",
    "COL_NAMES = [\"_id\", \"data\", \"label\"]\n",
    "\n",
    "UNKNOWN = \"<UNK>\""
   ]
  },
  {
   "cell_type": "code",
   "execution_count": 3,
   "metadata": {},
   "outputs": [
    {
     "data": {
      "text/html": [
       "<div>\n",
       "<style scoped>\n",
       "    .dataframe tbody tr th:only-of-type {\n",
       "        vertical-align: middle;\n",
       "    }\n",
       "\n",
       "    .dataframe tbody tr th {\n",
       "        vertical-align: top;\n",
       "    }\n",
       "\n",
       "    .dataframe thead th {\n",
       "        text-align: right;\n",
       "    }\n",
       "</style>\n",
       "<table border=\"1\" class=\"dataframe\">\n",
       "  <thead>\n",
       "    <tr style=\"text-align: right;\">\n",
       "      <th></th>\n",
       "      <th>_id</th>\n",
       "      <th>data</th>\n",
       "      <th>label</th>\n",
       "    </tr>\n",
       "  </thead>\n",
       "  <tbody>\n",
       "    <tr>\n",
       "      <th>0</th>\n",
       "      <td>5446</td>\n",
       "      <td>In addition to the immediate life-saving inter...</td>\n",
       "      <td>9</td>\n",
       "    </tr>\n",
       "    <tr>\n",
       "      <th>1</th>\n",
       "      <td>8812</td>\n",
       "      <td>There are approximately 2.6 million people cla...</td>\n",
       "      <td>3</td>\n",
       "    </tr>\n",
       "    <tr>\n",
       "      <th>2</th>\n",
       "      <td>16709</td>\n",
       "      <td>While aid imports have held up recently, comme...</td>\n",
       "      <td>5</td>\n",
       "    </tr>\n",
       "    <tr>\n",
       "      <th>3</th>\n",
       "      <td>3526</td>\n",
       "      <td>Heavy rainfalls as well as onrush of water fro...</td>\n",
       "      <td>0</td>\n",
       "    </tr>\n",
       "    <tr>\n",
       "      <th>4</th>\n",
       "      <td>4928</td>\n",
       "      <td>Based on field reports 9 , the main production...</td>\n",
       "      <td>3</td>\n",
       "    </tr>\n",
       "  </tbody>\n",
       "</table>\n",
       "</div>"
      ],
      "text/plain": [
       "     _id                                               data  label\n",
       "0   5446  In addition to the immediate life-saving inter...      9\n",
       "1   8812  There are approximately 2.6 million people cla...      3\n",
       "2  16709  While aid imports have held up recently, comme...      5\n",
       "3   3526  Heavy rainfalls as well as onrush of water fro...      0\n",
       "4   4928  Based on field reports 9 , the main production...      3"
      ]
     },
     "execution_count": 3,
     "metadata": {},
     "output_type": "execute_result"
    }
   ],
   "source": [
    "COL_NAMES = [\"_id\", \"data\", \"label\"]\n",
    "\n",
    "train_df = pd.read_csv(TRAIN_PATH, names=COL_NAMES, sep=',')\n",
    "val_df   = pd.read_csv(VAL_PATH, names=COL_NAMES, sep=',')\n",
    "test_df  = pd.read_csv(TEST_PATH, names=COL_NAMES, sep=',')\n",
    "\n",
    "train_df.head()"
   ]
  },
  {
   "cell_type": "code",
   "execution_count": 4,
   "metadata": {},
   "outputs": [
    {
     "data": {
      "text/plain": [
       "{0: 'Agriculture',\n",
       " 1: 'Cross',\n",
       " 2: 'Education',\n",
       " 3: 'Food',\n",
       " 4: 'Health',\n",
       " 5: 'Livelihood',\n",
       " 6: 'Logistic',\n",
       " 7: 'NFI',\n",
       " 8: 'Nutrition',\n",
       " 9: 'Protection',\n",
       " 10: 'Shelter',\n",
       " 11: 'WASH'}"
      ]
     },
     "execution_count": 4,
     "metadata": {},
     "output_type": "execute_result"
    }
   ],
   "source": [
    "id2name = {}\n",
    "\n",
    "with open(LABEL_LEGEND_PATH, \"r\") as f:\n",
    "    for line in f:\n",
    "        num_name = line.strip().split(',')\n",
    "        num, name = num_name\n",
    "        id2name[int(num)] = name\n",
    "\n",
    "id2name"
   ]
  },
  {
   "cell_type": "markdown",
   "metadata": {},
   "source": [
    "<a name=\"section-taskA\"></a><h2 style=\"color:rgb(0,120,170)\">Task A: Document Classification with PyTorch (25 points)</h2>"
   ]
  },
  {
   "cell_type": "markdown",
   "metadata": {},
   "source": [
    "The aim of this task is identical to the one of Assignment 2 - Task B, namely to design a document classification model that exploits pre-trained word embeddings. It is of course allowed to use the preprocessed text, the dictionary, or any other relevant code or processings, done in the previous assignments.\n",
    "\n",
    "In this task, you implement a document classification model using PyTorch, which given a document/sentence (consisting of a set of words) predicts the corresponding class. Before getting started with coding, have a look at the <a href=\"#section-tensorboard\">optional task</a>, as you may want to already include `Tensorboard` in the code. The implementation of the classifier should cover the points below.\n",
    "\n",
    "**Preprocessing and dictionary (1 point):** Following previous assignments, load the train, validation, and test datasets, apply necessary preprocessing steps, and create a dictionary of words. \n",
    "\n",
    "**Data batching (4 points):** Using the dictionary, create batches for any given dataset (train/validation/test). Each batch is a two-dimensional matrix of *batch-size* to *max-document-length*, containing the IDs of the words in the corresponding documents. *Batch-size* and *max-document-length* are two hyper-parameters and can be set to any appropriate values (*Batch-size* must be higher than 1 and *max-document-length* at least 50 words). If a document has more than *max-document-length* words, only the first *max-document-length* words should be kept.\n",
    "\n",
    "**Word embedding lookup (2 point):** Using `torch.nn.Embedding`, create a lookup for the embeddings of all the words in the dictionary. The lookup is in fact a matrix, which maps the ID of each word to the corresponding word vector. Similar to Assignment 2, use the pre-trained vectors of a word embedding model (like word2vec or GloVe) to initialize the word embeddings of the lookup. Keep in mind that the embeddings of the words in the lookup should be matched with the correct vector in the pretrained word embedding. If the vector of a word in the lookup does not exist in the pretrained word embeddings, the corresponding vector should be initialized randomly. \n",
    "\n",
    "**Model definition (3 points):** Define the class `ClassificationAverageModel` as a PyTorch model. In the initialization procedure, the model receives the word embedding lookup, and includes it in the model as model's parameters. These embeddings parameters should be trainable, meaning that the word vectors get updated during model training. Feel free to add any other parameters to the model, which might be necessary for accomplishing the functionalities explained in the following.\n",
    "\n",
    "**Forward function (5 points):** The forward function of the model receives a batch of data, and first fetches the corresponding embeddings of the word IDs in the batch using the lookup. Similar to Assignment 2, the embedding of a document is created by calculating the *element-wise mean* of the embeddings of the document's words. Formally, given the document $d$, consisting of words $\\left[ v_1, v_2, ..., v_{|d|} \\right]$, the document representation $\\mathbf{e}_d$ is defined as:\n",
    "\n",
    "<center><div>$\\mathbf{e}_d = \\frac{1}{|d|}\\sum_{i=1}^{|d|}{\\mathbf{e}_{v_i}}$</div></center>\n",
    "\n",
    "where $\\mathbf{e}_{v}$ is the vector of the word $v$, and $|d|$ is the length of the document. An important point in the implementation of this formula is that the documents in the batch might have different lengths and therefore each document should be divided by its corresponding $|d|$. Finally, this document embedding is utilized to predict the probability of the output classes, done by applying a linear transformation from the embeddings size to the number of classes, followed by Softmax. The linear transformation also belongs to the model's parameters and will be learned in training.\n",
    "\n",
    "**Loss Function and optimization (2 point):** The loss between the predicted and the actual classes is calculated using Negative Log Likelihood or Cross Entropy. Update the model's parameters using any appropriate optimization mechanism such as Adam.\n",
    "\n",
    "**Early Stopping (2 points):** After each epoch, evaluate the model on the *validation set* using accuracy. If the evaluation result (accuracy) improves, save the model as the best performing one so far. If the results are not improving after a certain number of evaluation rounds (set as another hyper-parameter) or if training reaches a certain number of epochs, terminate the training procedure. \n",
    "\n",
    "**Test Set Evaluation (1 point):** After finishing the training, load the (already stored) best performing model, and use it for class prediction on the test set.\n",
    "\n",
    "**Reporting (1 point):** During loading and processing the collection, provide sufficient information and examples about the data and the applied processing steps. Report the results of the best performing model on the validation and test set in a table.\n",
    "\n",
    "**Overall functionality of the training procedure (4 point).**\n"
   ]
  },
  {
   "cell_type": "markdown",
   "metadata": {},
   "source": [
    "### Preprocessing And Dictionary"
   ]
  },
  {
   "cell_type": "markdown",
   "metadata": {},
   "source": [
    "We use the 'word_tokenize' function from nltk for tokenization. This function incorporates multiple popular tokenizers such as TreebankWordTokenizer and PunktSentenceTokenizer into one."
   ]
  },
  {
   "cell_type": "code",
   "execution_count": 5,
   "metadata": {},
   "outputs": [],
   "source": [
    "train_df['data'] = train_df['data'].apply(lambda x: word_tokenize(x.lower()))\n",
    "val_df['data']   = val_df['data'].apply(lambda x: word_tokenize(x.lower()))\n",
    "test_df['data']  = test_df['data'].apply(lambda x: word_tokenize(x.lower()))"
   ]
  },
  {
   "cell_type": "code",
   "execution_count": 6,
   "metadata": {},
   "outputs": [
    {
     "name": "stdout",
     "output_type": "stream",
     "text": [
      "0        [in, addition, to, the, immediate, life-saving...\n",
      "1        [there, are, approximately, 2.6, million, peop...\n",
      "2        [while, aid, imports, have, held, up, recently...\n",
      "3        [heavy, rainfalls, as, well, as, onrush, of, w...\n",
      "4        [based, on, field, reports, 9, ,, the, main, p...\n",
      "                               ...                        \n",
      "12105    [the, total, gap, in, the, number, of, people,...\n",
      "12106    [a, food, crisis, is, looming, in, the, countr...\n",
      "12107    [?, acute, watery, diarrhoea, (, awd, ), conti...\n",
      "12108    [as, south, india, grapples, with, drought, an...\n",
      "12109    [mirroring, trends, in, south, africa, ,, the,...\n",
      "Name: data, Length: 12110, dtype: object\n",
      "<class 'list'>\n"
     ]
    }
   ],
   "source": [
    "print(train_df['data'])\n",
    "print(type(train_df['data'][0]))"
   ]
  },
  {
   "cell_type": "markdown",
   "metadata": {},
   "source": [
    "We use the GoogleNews Word2Vec model for the pretrained embeddings."
   ]
  },
  {
   "cell_type": "code",
   "execution_count": null,
   "metadata": {},
   "outputs": [],
   "source": [
    "from gensim.models import KeyedVectors\n",
    "from collections import defaultdict"
   ]
  },
  {
   "cell_type": "code",
   "execution_count": 8,
   "metadata": {},
   "outputs": [],
   "source": [
    "model = KeyedVectors.load_word2vec_format('../GoogleNews-vectors-negative300.bin', binary=True)"
   ]
  },
  {
   "cell_type": "code",
   "execution_count": 9,
   "metadata": {},
   "outputs": [],
   "source": [
    "def create_dictionary(datasets, word2vec_model):\n",
    "    word_dict = defaultdict(int)\n",
    "    idx = 0\n",
    "    word_dict['<UNK>'] = idx\n",
    "    idx += 1\n",
    "    for word in word2vec_model.key_to_index:  # Word2Vec words\n",
    "        word_dict[word] = idx\n",
    "        idx += 1\n",
    "    \n",
    "    for dataset in datasets:  # Dataset Words\n",
    "        for sentence in dataset['data']:\n",
    "            for word in sentence:\n",
    "                if word not in word_dict:\n",
    "                    word_dict[word] = idx\n",
    "                    idx += 1\n",
    "    return dict(word_dict)\n",
    "\n",
    "word_dict = create_dictionary([train_df, val_df, test_df], model)"
   ]
  },
  {
   "cell_type": "code",
   "execution_count": 10,
   "metadata": {},
   "outputs": [
    {
     "name": "stdout",
     "output_type": "stream",
     "text": [
      "0\n"
     ]
    },
    {
     "data": {
      "text/html": [
       "<div>\n",
       "<style scoped>\n",
       "    .dataframe tbody tr th:only-of-type {\n",
       "        vertical-align: middle;\n",
       "    }\n",
       "\n",
       "    .dataframe tbody tr th {\n",
       "        vertical-align: top;\n",
       "    }\n",
       "\n",
       "    .dataframe thead th {\n",
       "        text-align: right;\n",
       "    }\n",
       "</style>\n",
       "<table border=\"1\" class=\"dataframe\">\n",
       "  <thead>\n",
       "    <tr style=\"text-align: right;\">\n",
       "      <th></th>\n",
       "      <th>_id</th>\n",
       "      <th>label</th>\n",
       "    </tr>\n",
       "  </thead>\n",
       "  <tbody>\n",
       "    <tr>\n",
       "      <th>count</th>\n",
       "      <td>12110.000000</td>\n",
       "      <td>12110.000000</td>\n",
       "    </tr>\n",
       "    <tr>\n",
       "      <th>mean</th>\n",
       "      <td>8666.061767</td>\n",
       "      <td>5.842527</td>\n",
       "    </tr>\n",
       "    <tr>\n",
       "      <th>std</th>\n",
       "      <td>5018.417876</td>\n",
       "      <td>3.166097</td>\n",
       "    </tr>\n",
       "    <tr>\n",
       "      <th>min</th>\n",
       "      <td>1.000000</td>\n",
       "      <td>0.000000</td>\n",
       "    </tr>\n",
       "    <tr>\n",
       "      <th>25%</th>\n",
       "      <td>4283.500000</td>\n",
       "      <td>3.000000</td>\n",
       "    </tr>\n",
       "    <tr>\n",
       "      <th>50%</th>\n",
       "      <td>8684.500000</td>\n",
       "      <td>4.000000</td>\n",
       "    </tr>\n",
       "    <tr>\n",
       "      <th>75%</th>\n",
       "      <td>13036.750000</td>\n",
       "      <td>9.000000</td>\n",
       "    </tr>\n",
       "    <tr>\n",
       "      <th>max</th>\n",
       "      <td>17300.000000</td>\n",
       "      <td>11.000000</td>\n",
       "    </tr>\n",
       "  </tbody>\n",
       "</table>\n",
       "</div>"
      ],
      "text/plain": [
       "                _id         label\n",
       "count  12110.000000  12110.000000\n",
       "mean    8666.061767      5.842527\n",
       "std     5018.417876      3.166097\n",
       "min        1.000000      0.000000\n",
       "25%     4283.500000      3.000000\n",
       "50%     8684.500000      4.000000\n",
       "75%    13036.750000      9.000000\n",
       "max    17300.000000     11.000000"
      ]
     },
     "execution_count": 10,
     "metadata": {},
     "output_type": "execute_result"
    }
   ],
   "source": [
    "# get summary of train df\n",
    "print(word_dict['<UNK>'])\n",
    "train_df.describe()"
   ]
  },
  {
   "cell_type": "markdown",
   "metadata": {},
   "source": [
    "### Data Batching"
   ]
  },
  {
   "cell_type": "code",
   "execution_count": 11,
   "metadata": {},
   "outputs": [],
   "source": [
    "def doc_to_word_ids(doc, word_dict, max_doc_len):\n",
    "    return [word_dict.get(word, word_dict['<UNK>']) for word in doc[:max_doc_len]]\n",
    "\n",
    "def create_batches(dataframe, word_dict, batch_size=32, max_doc_len=100):\n",
    "    doc_ids = [doc_to_word_ids(doc, word_dict, max_doc_len) for doc in dataframe['data']]                               # Convert docs to word ids\n",
    "    doc_ids_padded = np.array([np.pad(doc, (0, max(0, max_doc_len - len(doc))), 'constant') for doc in doc_ids])        # Pad docs to max_doc_len\n",
    "    \n",
    "    batches = []\n",
    "    label_batches = []\n",
    "    labels = np.array(dataframe['label'])\n",
    "    for i in range(0, len(doc_ids_padded), batch_size):\n",
    "        doc_batch = doc_ids_padded[i:i+batch_size]\n",
    "        label_batch = labels[i:i+batch_size]\n",
    "        if len(doc_batch) == batch_size:\n",
    "            batches.append(doc_batch)\n",
    "            label_batches.append(label_batch)\n",
    "\n",
    "    return np.array(batches), np.array(label_batches)"
   ]
  },
  {
   "cell_type": "code",
   "execution_count": 12,
   "metadata": {},
   "outputs": [],
   "source": [
    "batch_size = 10\n",
    "max_document_length = 50\n",
    "\n",
    "train_batches, train_labels = create_batches(train_df, word_dict, batch_size, max_document_length)\n",
    "val_batches, val_labels = create_batches(val_df, word_dict, batch_size, max_document_length)\n",
    "test_batches, test_labels = create_batches(test_df, word_dict, batch_size, max_document_length)"
   ]
  },
  {
   "cell_type": "code",
   "execution_count": 13,
   "metadata": {},
   "outputs": [
    {
     "data": {
      "text/plain": [
       "((1211, 10, 50),\n",
       " (1211, 10),\n",
       " (259, 10, 50),\n",
       " (259, 10),\n",
       " (259, 10, 50),\n",
       " (259, 10))"
      ]
     },
     "execution_count": 13,
     "metadata": {},
     "output_type": "execute_result"
    }
   ],
   "source": [
    "train_batches.shape, train_labels.shape, val_batches.shape, val_labels.shape, test_batches.shape, test_labels.shape"
   ]
  },
  {
   "cell_type": "code",
   "execution_count": 14,
   "metadata": {},
   "outputs": [
    {
     "name": "stdout",
     "output_type": "stream",
     "text": [
      "[      2     698 3000001      12    2148 3000002   14500 3000003 1703581\n",
      "       5     453     599 3000001    1340 3000004     271      32      22\n",
      "    1551      13      12    5148       2 3000005     295      31     917\n",
      " 3000006       0       0       0       0       0       0       0       0\n",
      "       0       0       0       0       0       0       0       0       0\n",
      "       0       0       0       0       0]\n"
     ]
    },
    {
     "data": {
      "text/plain": [
       "(50,)"
      ]
     },
     "execution_count": 14,
     "metadata": {},
     "output_type": "execute_result"
    }
   ],
   "source": [
    "print(train_batches[0, 0])\n",
    "train_batches[0, 0].shape"
   ]
  },
  {
   "cell_type": "code",
   "execution_count": 15,
   "metadata": {},
   "outputs": [
    {
     "name": "stdout",
     "output_type": "stream",
     "text": [
      "[9 3 5 0 3 9 9 1 4 4]\n"
     ]
    },
    {
     "data": {
      "text/plain": [
       "(10,)"
      ]
     },
     "execution_count": 15,
     "metadata": {},
     "output_type": "execute_result"
    }
   ],
   "source": [
    "print(train_labels[0])\n",
    "train_labels[0].shape"
   ]
  },
  {
   "cell_type": "markdown",
   "metadata": {},
   "source": [
    "### Word Embeddings"
   ]
  },
  {
   "cell_type": "code",
   "execution_count": 16,
   "metadata": {},
   "outputs": [],
   "source": [
    "import torch\n",
    "import torch.nn as nn\n",
    "\n",
    "# os.environ['PYTORCH_MPS_HIGH_WATERMARK_RATIO'] = '0.0'\n",
    "# torch.mps.empty_cache()"
   ]
  },
  {
   "cell_type": "code",
   "execution_count": 17,
   "metadata": {},
   "outputs": [
    {
     "name": "stdout",
     "output_type": "stream",
     "text": [
      "cuda\n"
     ]
    }
   ],
   "source": [
    "device = 'mps' if torch.backends.mps.is_available() else 'cuda' if torch.cuda.is_available() else 'cpu'\n",
    "print(device)"
   ]
  },
  {
   "cell_type": "code",
   "execution_count": 18,
   "metadata": {},
   "outputs": [],
   "source": [
    "train_batches = torch.tensor(train_batches, dtype=torch.long, device=device)\n",
    "val_batches = torch.tensor(val_batches, dtype=torch.long, device=device)\n",
    "test_batches = torch.tensor(test_batches, dtype=torch.long, device=device)"
   ]
  },
  {
   "cell_type": "code",
   "execution_count": 19,
   "metadata": {},
   "outputs": [],
   "source": [
    "train_labels = torch.tensor(train_labels, dtype=torch.long, device=device)\n",
    "val_labels = torch.tensor(val_labels, dtype=torch.long, device=device)\n",
    "test_labels = torch.tensor(test_labels, dtype=torch.long, device=device)"
   ]
  },
  {
   "cell_type": "code",
   "execution_count": 20,
   "metadata": {},
   "outputs": [
    {
     "data": {
      "text/plain": [
       "(torch.Size([1211, 10, 50]),\n",
       " torch.Size([259, 10, 50]),\n",
       " torch.Size([259, 10, 50]),\n",
       " torch.Size([1211, 10]),\n",
       " torch.Size([259, 10]),\n",
       " torch.Size([259, 10]))"
      ]
     },
     "execution_count": 20,
     "metadata": {},
     "output_type": "execute_result"
    }
   ],
   "source": [
    "train_batches.shape, val_batches.shape, test_batches.shape, train_labels.shape, val_labels.shape, test_labels.shape"
   ]
  },
  {
   "cell_type": "code",
   "execution_count": 21,
   "metadata": {},
   "outputs": [
    {
     "name": "stdout",
     "output_type": "stream",
     "text": [
      "tensor([      2,     698, 3000001,      12,    2148, 3000002,   14500, 3000003,\n",
      "        1703581,       5,     453,     599, 3000001,    1340, 3000004,     271,\n",
      "             32,      22,    1551,      13,      12,    5148,       2, 3000005,\n",
      "            295,      31,     917, 3000006,       0,       0,       0,       0,\n",
      "              0,       0,       0,       0,       0,       0,       0,       0,\n",
      "              0,       0,       0,       0,       0,       0,       0,       0,\n",
      "              0,       0], device='cuda:0')\n"
     ]
    }
   ],
   "source": [
    "print(train_batches[0, 0])"
   ]
  },
  {
   "cell_type": "code",
   "execution_count": 22,
   "metadata": {},
   "outputs": [],
   "source": [
    "EMBEDDING_DIM = 300 # embedding dimension of GoogleNews Word2Vec\n",
    "embedding_matrix = torch.zeros((len(word_dict), EMBEDDING_DIM), device=device, dtype=torch.float32)  # Create Embedding"
   ]
  },
  {
   "cell_type": "code",
   "execution_count": 23,
   "metadata": {},
   "outputs": [],
   "source": [
    "for word, idx in word_dict.items():                                             # Fill embedding matrix\n",
    "    if word in model.key_to_index:\n",
    "        embedding_matrix[idx] = torch.tensor(model[word])                                     # Word2Vec\n",
    "    else:\n",
    "        embedding_matrix[idx] = torch.randn(EMBEDDING_DIM)                                    # Random"
   ]
  },
  {
   "cell_type": "code",
   "execution_count": 24,
   "metadata": {},
   "outputs": [
    {
     "data": {
      "text/plain": [
       "(('</s>', 1),\n",
       " tensor([ 1.1292e-03, -8.9645e-04,  3.1853e-04,  1.5335e-03,  1.1063e-03,\n",
       "         -1.4038e-03, -3.0518e-05, -4.1962e-04, -5.7602e-04,  1.0757e-03,\n",
       "         -1.0223e-03, -6.1798e-04, -7.5531e-04,  1.4038e-03, -1.6403e-03,\n",
       "         -6.3324e-04,  1.6327e-03, -1.0071e-03, -1.2665e-03,  6.5231e-04,\n",
       "         -4.1580e-04, -1.0757e-03,  1.5259e-03, -2.7466e-04,  1.4019e-04,\n",
       "          1.5717e-03,  1.3580e-03, -8.3160e-04, -1.4038e-03,  1.5793e-03,\n",
       "          2.5368e-04, -7.3242e-04, -1.0538e-04, -1.1673e-03,  1.5793e-03,\n",
       "          6.5613e-04, -6.5994e-04,  2.9206e-06,  1.1292e-03,  4.2725e-04,\n",
       "         -3.7003e-04, -1.1520e-03,  1.2665e-03, -3.5167e-06,  2.6512e-04,\n",
       "         -4.0245e-04,  1.4114e-04, -3.3617e-05,  7.5912e-04, -5.1880e-04,\n",
       "         -7.1049e-05,  6.0272e-04, -5.0735e-04, -1.6251e-03, -4.3678e-04,\n",
       "         -9.9182e-04, -1.2207e-03, -3.2234e-04,  6.8665e-05, -1.1673e-03,\n",
       "         -5.1117e-04,  1.4114e-03,  3.3569e-04, -4.7493e-04, -1.3733e-03,\n",
       "          3.6621e-04, -1.4420e-03, -6.0654e-04,  8.0109e-04,  1.1292e-03,\n",
       "         -8.3542e-04, -1.1597e-03,  9.1553e-04,  5.2261e-04, -3.2806e-04,\n",
       "          1.5945e-03, -1.5793e-03, -3.5667e-04,  4.9591e-04,  1.0147e-03,\n",
       "         -1.0986e-03, -1.6594e-04, -1.4210e-04, -2.6131e-04,  1.2589e-03,\n",
       "          3.8624e-05,  1.6880e-04, -1.0300e-03,  1.6098e-03,  6.2943e-04,\n",
       "          4.1771e-04, -1.3504e-03,  3.4904e-04,  1.1444e-03, -1.2054e-03,\n",
       "         -1.1826e-03,  9.4986e-04,  6.0558e-05,  1.0729e-05, -6.6757e-04,\n",
       "          1.2436e-03,  6.9046e-04,  5.5552e-05, -8.6212e-04, -1.1673e-03,\n",
       "          1.2131e-03, -8.0490e-04, -8.7738e-04,  2.2793e-04, -3.9673e-04,\n",
       "         -8.5831e-04,  2.8801e-04, -1.5869e-03,  4.8447e-04, -1.1215e-03,\n",
       "          1.9670e-06, -3.7956e-04,  7.0572e-04, -1.5869e-03,  1.6251e-03,\n",
       "          1.5564e-03, -4.3106e-04,  9.8419e-04,  9.0408e-04, -1.3962e-03,\n",
       "          1.2054e-03, -7.0190e-04,  2.7084e-04, -1.2360e-03,  6.9046e-04,\n",
       "         -8.4305e-04,  1.3428e-03, -1.4343e-03, -6.7139e-04,  1.5488e-03,\n",
       "         -1.0986e-03,  1.1902e-03, -1.4267e-03, -6.8283e-04, -7.8583e-04,\n",
       "          4.8065e-04,  4.0817e-04, -6.3705e-04,  1.4496e-04, -9.7656e-04,\n",
       "          1.4496e-03,  8.4564e-07, -1.6632e-03, -3.2806e-04,  6.2943e-04,\n",
       "         -1.4343e-03, -3.4142e-04,  1.1520e-03, -5.3024e-04, -4.7112e-04,\n",
       "         -8.5068e-04, -1.3809e-03, -1.2436e-03, -1.3275e-03,  1.0757e-03,\n",
       "          1.3199e-03, -3.0327e-04, -3.7432e-05,  1.1826e-03, -1.3580e-03,\n",
       "         -1.0452e-03,  5.6744e-05, -1.0147e-03,  4.3297e-04, -1.5717e-03,\n",
       "         -9.1076e-05,  1.0605e-03, -6.0272e-04, -1.5335e-03, -1.5335e-03,\n",
       "          5.4169e-04,  1.3351e-03,  4.1199e-04, -3.1090e-04,  1.7643e-04,\n",
       "         -1.3733e-04, -6.9809e-04, -8.6212e-04, -1.0834e-03, -2.9802e-05,\n",
       "          8.0109e-04,  6.7902e-04,  3.3569e-04, -1.3885e-03,  1.3504e-03,\n",
       "          2.3460e-04, -1.3351e-03, -8.7357e-04, -7.4387e-04,  1.0834e-03,\n",
       "          6.0558e-05, -1.2665e-03,  1.1902e-03, -6.2180e-04,  1.3597e-07,\n",
       "          1.2741e-03, -9.8419e-04, -1.5488e-03,  1.5564e-03, -1.3123e-03,\n",
       "         -7.9346e-04,  1.5335e-03,  1.2970e-03, -1.8024e-04,  9.1934e-04,\n",
       "          1.2054e-03,  7.7057e-04, -1.6556e-03,  7.7057e-04,  1.4496e-03,\n",
       "         -1.3046e-03,  6.1035e-04,  6.5994e-04,  1.2589e-03,  1.4191e-03,\n",
       "         -1.2207e-03, -1.5106e-03,  1.1292e-03,  1.3428e-03,  1.6632e-03,\n",
       "         -5.7220e-04, -5.5695e-04,  3.9864e-04, -2.7084e-04,  4.9591e-04,\n",
       "          1.6098e-03, -7.0572e-04,  6.2561e-04, -9.7656e-04, -1.8978e-04,\n",
       "          9.5367e-05, -5.1880e-04, -2.0409e-04, -8.2779e-04, -1.2302e-04,\n",
       "          7.6294e-04,  3.2234e-04, -1.2436e-03,  9.9182e-04,  1.0605e-03,\n",
       "         -1.4114e-03,  9.6798e-05, -1.5564e-03,  2.1935e-04, -5.5313e-05,\n",
       "         -9.1171e-04, -1.4877e-03,  1.3657e-03, -8.4305e-04, -4.1962e-04,\n",
       "          3.2425e-04, -1.0071e-03,  1.2589e-04, -4.5586e-04,  1.9264e-04,\n",
       "         -2.6894e-04,  1.4954e-03, -1.5869e-03,  5.9128e-04, -1.4648e-03,\n",
       "          9.6512e-04, -1.2817e-03,  1.6022e-03,  1.0910e-03, -1.3123e-03,\n",
       "          1.0910e-03, -5.1117e-04,  3.4523e-04,  1.0452e-03, -2.0695e-04,\n",
       "          9.0408e-04,  6.6757e-04,  1.1063e-03, -8.7357e-04, -3.7575e-04,\n",
       "         -2.5749e-04, -9.1553e-05,  1.4343e-03, -1.1826e-03, -8.7261e-05,\n",
       "          1.3275e-03, -1.5831e-04,  1.2894e-03, -9.8419e-04, -5.4932e-04,\n",
       "         -1.5488e-03,  1.3733e-03, -6.0797e-05, -8.2397e-04,  1.3275e-03,\n",
       "          1.1597e-03,  5.6839e-04, -1.5640e-03, -1.2302e-04, -8.6308e-05],\n",
       "        device='cuda:0'))"
      ]
     },
     "execution_count": 24,
     "metadata": {},
     "output_type": "execute_result"
    }
   ],
   "source": [
    "list(word_dict.items())[1], embedding_matrix[1]"
   ]
  },
  {
   "cell_type": "code",
   "execution_count": 25,
   "metadata": {},
   "outputs": [],
   "source": [
    "embedding_layer = nn.Embedding.from_pretrained(embedding_matrix, freeze=False)  # Create embedding layer"
   ]
  },
  {
   "cell_type": "code",
   "execution_count": 26,
   "metadata": {},
   "outputs": [
    {
     "data": {
      "text/plain": [
       "(3027188, 300)"
      ]
     },
     "execution_count": 26,
     "metadata": {},
     "output_type": "execute_result"
    }
   ],
   "source": [
    "embedding_layer.num_embeddings, embedding_layer.embedding_dim"
   ]
  },
  {
   "cell_type": "code",
   "execution_count": 27,
   "metadata": {},
   "outputs": [
    {
     "data": {
      "text/plain": [
       "torch.Size([1, 300])"
      ]
     },
     "execution_count": 27,
     "metadata": {},
     "output_type": "execute_result"
    }
   ],
   "source": [
    "embedding_layer(torch.tensor([word_dict['the']], dtype=torch.long).to(device)).shape"
   ]
  },
  {
   "cell_type": "code",
   "execution_count": 28,
   "metadata": {},
   "outputs": [
    {
     "data": {
      "text/plain": [
       "tensor([[ 0.0703,  0.0869,  0.0879,  ..., -0.0476,  0.0145, -0.0625],\n",
       "        [ 0.0454,  0.1152, -0.1758,  ...,  0.2852,  0.0771, -0.0374],\n",
       "        [ 0.1281, -0.1649,  1.8620,  ...,  1.0387, -0.6015, -1.6614],\n",
       "        ...,\n",
       "        [ 0.4412,  1.1620,  1.8766,  ...,  1.0030, -0.3027,  0.3301],\n",
       "        [ 0.4412,  1.1620,  1.8766,  ...,  1.0030, -0.3027,  0.3301],\n",
       "        [ 0.4412,  1.1620,  1.8766,  ...,  1.0030, -0.3027,  0.3301]],\n",
       "       device='cuda:0', grad_fn=<EmbeddingBackward0>)"
      ]
     },
     "execution_count": 28,
     "metadata": {},
     "output_type": "execute_result"
    }
   ],
   "source": [
    "embedding_layer(train_batches[0, 0])"
   ]
  },
  {
   "cell_type": "markdown",
   "metadata": {},
   "source": [
    "### Model Definition & Forward Function"
   ]
  },
  {
   "cell_type": "code",
   "execution_count": 29,
   "metadata": {},
   "outputs": [],
   "source": [
    "import torch.nn.functional as F"
   ]
  },
  {
   "cell_type": "code",
   "execution_count": 30,
   "metadata": {},
   "outputs": [],
   "source": [
    "class ClassificationAverageModel(nn.Module):\n",
    "    def __init__(self, embedding_layer, num_classes):\n",
    "        super(ClassificationAverageModel, self).__init__()\n",
    "        self.embedding_layer = embedding_layer\n",
    "        self.linear = nn.Linear(embedding_layer.embedding_dim, num_classes)\n",
    "\n",
    "    def forward(self, batch, lengths):\n",
    "        embedded = self.embedding_layer(batch) # Get embeddings\n",
    "        mask = torch.arange(batch.size(1)).to(device)[None, :] < lengths[:, None] # Create mask to only average over true length\n",
    "        output = self.linear(torch.sum(embedded * mask.unsqueeze(-1), dim=1) / lengths.view(-1, 1).to(embedded.dtype)) # average embeddings\n",
    "        probabilities = F.softmax(output, dim=1) # softmax\n",
    "        return probabilities"
   ]
  },
  {
   "cell_type": "markdown",
   "metadata": {},
   "source": [
    "### Loss Function And Optimization And Early Stopping"
   ]
  },
  {
   "cell_type": "code",
   "execution_count": 31,
   "metadata": {},
   "outputs": [],
   "source": [
    "import torch.optim as optim"
   ]
  },
  {
   "cell_type": "code",
   "execution_count": 32,
   "metadata": {},
   "outputs": [],
   "source": [
    "def train(net, optimizer, criterion, train_batches, val_batches, epochs=10, best_model=None, early_stopping=3, best_val_loss=float('inf')):\n",
    "    BEST_MODEL = best_model\n",
    "    EARLY_STOPPING = early_stopping\n",
    "    BEST_VAL_LOSS = best_val_loss\n",
    "    early_stopping_rounds = 1\n",
    "    train_losses = []\n",
    "    val_losses = []\n",
    "    for epoch in range(epochs):\n",
    "        net.train()\n",
    "        running_loss = 0.0\n",
    "        for i, batch in tqdm(enumerate(train_batches)):\n",
    "            inputs, labels = batch[:, :-1], batch[:, -1]\n",
    "            lengths = torch.sum(inputs != word_dict['<UNK>'], dim=1)\n",
    "            optimizer.zero_grad()\n",
    "            outputs = net(inputs, lengths)\n",
    "            loss = criterion(outputs, labels)\n",
    "            loss.backward()\n",
    "            optimizer.step()\n",
    "            running_loss += loss.item()\n",
    "        train_losses.append(running_loss / len(train_batches))\n",
    "        net.eval()\n",
    "        running_loss = 0.0\n",
    "        for i, batch in enumerate(val_batches):\n",
    "            inputs, labels = batch[:, :-1], batch[:, -1]\n",
    "            lengths = torch.sum(inputs != word_dict['<UNK>'], dim=1)\n",
    "            outputs = net(inputs, lengths)\n",
    "            loss = criterion(outputs, labels)\n",
    "            running_loss += loss.item()\n",
    "        val_losses.append(running_loss / len(val_batches))\n",
    "        if val_losses[-1] < BEST_VAL_LOSS:\n",
    "            BEST_VAL_LOSS = val_losses[-1]\n",
    "            BEST_MODEL = net.state_dict()\n",
    "            early_stopping_rounds = 1\n",
    "        else:\n",
    "            early_stopping_rounds += 1\n",
    "            if early_stopping_rounds == EARLY_STOPPING:\n",
    "                print(f\"Early stopping after {epoch + 1} epochs\")\n",
    "                break\n",
    "        print(f\"Epoch {epoch + 1} Train Loss: {train_losses[-1]}, Val Loss: {val_losses[-1]}\")\n",
    "    return BEST_MODEL, train_losses, val_losses"
   ]
  },
  {
   "cell_type": "code",
   "execution_count": 33,
   "metadata": {},
   "outputs": [],
   "source": [
    "train_batches_with_labels = torch.cat((train_batches, train_labels.unsqueeze(-1)), dim=2)\n",
    "val_batches_with_labels = torch.cat((val_batches, val_labels.unsqueeze(-1)), dim=2)\n",
    "test_batches_with_labels = torch.cat((test_batches, test_labels.unsqueeze(-1)), dim=2)"
   ]
  },
  {
   "cell_type": "code",
   "execution_count": 34,
   "metadata": {},
   "outputs": [
    {
     "data": {
      "text/plain": [
       "(torch.Size([1211, 10, 50]),\n",
       " torch.Size([1211, 10, 1]),\n",
       " torch.Size([1211, 10, 51]))"
      ]
     },
     "execution_count": 34,
     "metadata": {},
     "output_type": "execute_result"
    }
   ],
   "source": [
    "train_batches.size(), train_labels.unsqueeze(-1).size(), train_batches_with_labels.size()"
   ]
  },
  {
   "cell_type": "code",
   "execution_count": 35,
   "metadata": {},
   "outputs": [
    {
     "data": {
      "text/plain": [
       "tensor([9, 3, 5, 0, 3, 9, 9, 1, 4, 4], device='cuda:0')"
      ]
     },
     "execution_count": 35,
     "metadata": {},
     "output_type": "execute_result"
    }
   ],
   "source": [
    "train_batches_with_labels[0][:, -1]"
   ]
  },
  {
   "cell_type": "code",
   "execution_count": 36,
   "metadata": {},
   "outputs": [],
   "source": [
    "def get_trained_model(net=None, optimizer=None, criterion=None, train_batches_with_labels=None, val_batches_with_labels=None, model_path=None, train_new_model=False, epochs=10, early_stopping_rounds=2):\n",
    "    \"\"\"\n",
    "    Get a trained model.\n",
    "    :param net: model to train\n",
    "    :param optimizer: optimizer to use\n",
    "    :param criterion: loss function to use\n",
    "    :param train_batches_with_labels: training data\n",
    "    :param val_batches_with_labels: validation data\n",
    "    :param model_path: path to model to load\n",
    "    :param train_new_model: whether to train a new model\n",
    "    :param epochs: number of epochs to train\n",
    "    :return: trained model, train losses, validation losses\n",
    "    \"\"\"\n",
    "    train_losses, val_losses = [], []\n",
    "    if model_path is not None:\n",
    "        net.load_state_dict(torch.load(model_path))\n",
    "    else:\n",
    "        if train_new_model:\n",
    "            net = ClassificationAverageModel(embedding_layer, len(id2name)).to(device)\n",
    "            optimizer = optimizer or optim.Adam(net.parameters(), lr=0.005)\n",
    "            net, train_losses, val_losses = train(net, optimizer, criterion, train_batches_with_labels, val_batches_with_labels, epochs, early_stopping=2)\n",
    "            torch.save(net, \"model.pt\")\n",
    "    return net, train_losses, val_losses"
   ]
  },
  {
   "cell_type": "code",
   "execution_count": 37,
   "metadata": {},
   "outputs": [],
   "source": [
    "criterion = nn.CrossEntropyLoss()"
   ]
  },
  {
   "cell_type": "code",
   "execution_count": 38,
   "metadata": {},
   "outputs": [
    {
     "name": "stderr",
     "output_type": "stream",
     "text": [
      "1211it [02:05,  9.62it/s]\n"
     ]
    },
    {
     "name": "stdout",
     "output_type": "stream",
     "text": [
      "Epoch 1 Train Loss: 2.0444413863559285, Val Loss: 1.9214527703620292\n"
     ]
    },
    {
     "name": "stderr",
     "output_type": "stream",
     "text": [
      "1211it [02:05,  9.61it/s]\n"
     ]
    },
    {
     "name": "stdout",
     "output_type": "stream",
     "text": [
      "Epoch 2 Train Loss: 1.8448764524806343, Val Loss: 1.868247573900407\n"
     ]
    },
    {
     "name": "stderr",
     "output_type": "stream",
     "text": [
      "1211it [02:06,  9.60it/s]\n"
     ]
    },
    {
     "name": "stdout",
     "output_type": "stream",
     "text": [
      "Epoch 3 Train Loss: 1.7861451237384787, Val Loss: 1.8567422992014055\n"
     ]
    },
    {
     "name": "stderr",
     "output_type": "stream",
     "text": [
      "1211it [02:06,  9.59it/s]\n"
     ]
    },
    {
     "name": "stdout",
     "output_type": "stream",
     "text": [
      "Early stopping after 4 epochs\n"
     ]
    }
   ],
   "source": [
    "net, train_losses, val_losses = get_trained_model(None, None, criterion, train_batches_with_labels, val_batches_with_labels, model_path=None, train_new_model=True, epochs=4, early_stopping_rounds=3)"
   ]
  },
  {
   "cell_type": "markdown",
   "metadata": {},
   "source": [
    "### Test Set Evaluation"
   ]
  },
  {
   "cell_type": "code",
   "execution_count": 48,
   "metadata": {},
   "outputs": [],
   "source": [
    "def test(net, test_batches):\n",
    "    net.eval()\n",
    "    running_loss = 0.0\n",
    "    correct = 0\n",
    "    total = 0\n",
    "    with torch.no_grad():\n",
    "        for i, batch in enumerate(test_batches):\n",
    "            inputs, labels = batch[:, :-1], batch[:, -1]\n",
    "            lengths = torch.sum(inputs != word_dict['<UNK>'], dim=1)\n",
    "            outputs = net(inputs.to(device), lengths.to(device))\n",
    "            loss = criterion(outputs, labels.to(device))\n",
    "            running_loss += loss.item()\n",
    "            _, predicted = torch.max(outputs.data, 1)\n",
    "            total += labels.size(0)\n",
    "            correct += (predicted == labels.to(device)).sum().item()\n",
    "    return running_loss / len(test_batches), correct / total"
   ]
  },
  {
   "cell_type": "code",
   "execution_count": 51,
   "metadata": {},
   "outputs": [
    {
     "data": {
      "text/plain": [
       "(1.8627950537618982, 0.7602316602316602)"
      ]
     },
     "execution_count": 51,
     "metadata": {},
     "output_type": "execute_result"
    }
   ],
   "source": [
    "model = ClassificationAverageModel(embedding_layer, len(id2name)).to(device)\n",
    "model.load_state_dict(net)\n",
    "test(model, test_batches_with_labels)"
   ]
  },
  {
   "cell_type": "markdown",
   "metadata": {},
   "source": [
    "Looks solid! :D"
   ]
  },
  {
   "cell_type": "markdown",
   "metadata": {},
   "source": [
    "### Reporting"
   ]
  },
  {
   "cell_type": "code",
   "execution_count": 52,
   "metadata": {},
   "outputs": [
    {
     "data": {
      "image/png": "[encoded data removed]",
      "text/plain": [
       "<Figure size 640x480 with 1 Axes>"
      ]
     },
     "metadata": {},
     "output_type": "display_data"
    }
   ],
   "source": [
    "plt.plot(train_losses, label=\"Train Loss\")\n",
    "plt.plot(val_losses, label=\"Validation Loss\")\n",
    "plt.legend()\n",
    "plt.show()"
   ]
  },
  {
   "cell_type": "code",
   "execution_count": 53,
   "metadata": {},
   "outputs": [],
   "source": [
    "import tabulate"
   ]
  },
  {
   "cell_type": "code",
   "execution_count": 56,
   "metadata": {},
   "outputs": [],
   "source": [
    "train_loss, train_acc = test(model, train_batches_with_labels)\n",
    "val_loss, val_acc = test(model, val_batches_with_labels)\n",
    "test_loss, test_acc = test(model, test_batches_with_labels)"
   ]
  },
  {
   "cell_type": "code",
   "execution_count": 57,
   "metadata": {},
   "outputs": [
    {
     "name": "stdout",
     "output_type": "stream",
     "text": [
      "Dataset       Loss\n",
      "---------  -------\n",
      "Train      1.71668\n",
      "Val        1.86809\n",
      "Test       1.8628\n"
     ]
    }
   ],
   "source": [
    "table1 = [[\"Train\", train_loss], [\"Val\", val_loss], [\"Test\", test_loss]]\n",
    "print(tabulate.tabulate(table1, headers=[\"Dataset\", \"Loss\"]))"
   ]
  },
  {
   "cell_type": "code",
   "execution_count": 58,
   "metadata": {},
   "outputs": [
    {
     "name": "stdout",
     "output_type": "stream",
     "text": [
      "Dataset      Accuracy\n",
      "---------  ----------\n",
      "Train        0.902395\n",
      "Val          0.752124\n",
      "Test         0.760232\n"
     ]
    }
   ],
   "source": [
    "table2 = [[\"Train\", train_acc], [\"Val\", val_acc], [\"Test\", test_acc]]\n",
    "print(tabulate.tabulate(table2, headers=[\"Dataset\", \"Accuracy\"]))"
   ]
  },
  {
   "cell_type": "markdown",
   "metadata": {},
   "source": [
    "The result looks nice, it does not seem as the model would overfit or something like that. (We would not expect that with one linear layer anyway, but hey). Although we do see that the validation loss bottoms out relatively quickly."
   ]
  },
  {
   "cell_type": "markdown",
   "metadata": {},
   "source": [
    "<a name=\"section-taskB\"></a><h2 style=\"color:rgb(0,120,170)\">Task B: Document Classification with BERT (15 points)</h2>"
   ]
  },
  {
   "cell_type": "markdown",
   "metadata": {},
   "source": [
    "This task aims to conduct the same document classification as Task A, but now by utilizing a pre-trained BERT model. Feel free to reuse any code from the previous task. The implementation of the classifier should cover the points below.\n",
    "\n",
    "**Loading BERT model (2 points):** Use the `transformers` library from `huggingface` to load a (small) pre-trained BERT model. Select a BERT model according to your available resources. The available models can be found [here](https://huggingface.co/models) and [here](https://github.com/google-research/bert).\n",
    "\n",
    "**BERT tokenization (3 points):** For training BERT models, we do not need to create a dictionary anymore, as a BERT model already contains an internal subword dictionary. Following the instruction in `transformers`'s documentation, tokenize the data using the BERT model.  \n",
    "\n",
    "**Model definition and forward function (5 points):** Define the class **`ClassificationBERTModel`** as a PyTorch model. In the initialization procedure, the model receives the loaded BERT model and stores it as the model's parameter. The parameters of the BERT model should be trainable. The forward function of the model receives a batch of data, passes this batch to BERT, and achieves the corresponding document embeddings from the output of BERT. Similar to the previous task, the document embeddings are used for classification by linearly transforming document embeddings to the vectors with the number of classes, followed by applying Softmax.\n",
    "\n",
    "**Training and overall functionality (3 points):** Train the model in a similar fashion to the previous task, namely with the proper loss function, optimization, and early stoping.\n",
    "\n",
    "**Test Set Evaluation (1 point):** After finishing the training, load the (already stored) best performing model, and use it for class prediction on the test set.\n",
    "\n",
    "**Reporting (1 point):** Report the results of the best performing model on the validation and test set in a table.\n"
   ]
  },
  {
   "cell_type": "markdown",
   "metadata": {},
   "source": [
    "## Loading the BERT model and the tokenizer"
   ]
  },
  {
   "cell_type": "markdown",
   "metadata": {},
   "source": [
    "For this we are using \"**DistilBERT**\", found at https://huggingface.co/docs/transformers/model_doc/distilbert.\n",
    "\n",
    "We load a new BERT model for each training run and for each testing procedure.\n",
    "\n",
    "We tokenize the data in the `custom_collate` function of the data loader. This is because the `tokenizer` provides convinient functionality for batching."
   ]
  },
  {
   "cell_type": "code",
   "execution_count": 59,
   "metadata": {},
   "outputs": [],
   "source": [
    "import torch\n",
    "from torch import nn\n",
    "import torch.optim as optim\n",
    "import torch.nn.functional as F"
   ]
  },
  {
   "cell_type": "code",
   "execution_count": 60,
   "metadata": {},
   "outputs": [],
   "source": [
    "#!pip install transformers\n",
    "from transformers import AutoModel\n",
    "from transformers import AutoTokenizer\n",
    "\n",
    "model_name = 'distilbert-base-uncased'\n",
    "tokenizer = AutoTokenizer.from_pretrained(model_name)"
   ]
  },
  {
   "cell_type": "markdown",
   "metadata": {},
   "source": [
    "## Model definition and forward function"
   ]
  },
  {
   "cell_type": "code",
   "execution_count": 61,
   "metadata": {},
   "outputs": [],
   "source": [
    "class ClassificationBERTModel(nn.Module):\n",
    "    def __init__(self, loaded_bert, num_classes):\n",
    "        super(ClassificationBERTModel, self).__init__()\n",
    "        self.bert_model = loaded_bert\n",
    "        bert_embed_size = self.bert_model.config.hidden_size\n",
    "        self.linear     = nn.Linear(bert_embed_size, num_classes)\n",
    "        for param in self.bert_model.parameters():  # make the model trainable\n",
    "            param.requires_grad = True\n",
    "\n",
    "    def forward(self, batch):\n",
    "        outputs        = self.bert_model(**batch)      # batches must already be tokenized\n",
    "        embeddings     = outputs.last_hidden_state     # output is of shape [batch_size, max_length, embedding_size]\n",
    "        sentence_embed = embeddings[:, 0, :]           # first vector for each sentence gives embedding of whole sentence [batch_size, embedding_size]\n",
    "        class_output   = self.linear(sentence_embed)   # output is of shape [batch_size, num_classes]\n",
    "        probabilities  = F.softmax(class_output, dim=-1)\n",
    "        return probabilities"
   ]
  },
  {
   "cell_type": "markdown",
   "metadata": {
    "editable": true,
    "slideshow": {
     "slide_type": ""
    },
    "tags": []
   },
   "source": [
    "## Training"
   ]
  },
  {
   "cell_type": "markdown",
   "metadata": {},
   "source": [
    "### DataSet and DataLoader"
   ]
  },
  {
   "cell_type": "code",
   "execution_count": 62,
   "metadata": {
    "editable": true,
    "slideshow": {
     "slide_type": ""
    },
    "tags": []
   },
   "outputs": [],
   "source": [
    "class BERTdata(torch.utils.data.Dataset):\n",
    "    def __init__(self, data, targets):\n",
    "        self.data    = data\n",
    "        self.targets = torch.Tensor(targets).type(torch.LongTensor)\n",
    "\n",
    "    def __getitem__(self, index):\n",
    "        return self.data[index], self.targets[index]\n",
    "\n",
    "    def __len__(self):\n",
    "        return len(self.targets)\n",
    "\n",
    "\n",
    "class BERTloader(torch.utils.data.DataLoader):\n",
    "    def __init__(self, data, targets, tokenizer, device, max_length=64, batch_size=32, shuffle=True, num_workers=0, custom_collate=None):\n",
    "        dataset = BERTdata(data, targets)\n",
    "        super().__init__(dataset, batch_size=batch_size, shuffle=shuffle, num_workers=num_workers,\n",
    "                         collate_fn=lambda x: custom_collate(x, tokenizer=tokenizer, device=device, max_length=max_length))\n",
    "\n",
    "def custom_collate(batch, tokenizer, device, max_length=64):\n",
    "    data, targets = zip(*batch)\n",
    "    data = tokenizer(data, padding=True, truncation=True, max_length=max_length, return_tensors=\"pt\")\n",
    "    targets = torch.stack(targets)\n",
    "    return data, targets"
   ]
  },
  {
   "cell_type": "markdown",
   "metadata": {},
   "source": [
    "### Training"
   ]
  },
  {
   "cell_type": "code",
   "execution_count": 63,
   "metadata": {},
   "outputs": [
    {
     "name": "stdout",
     "output_type": "stream",
     "text": [
      "mps\n"
     ]
    }
   ],
   "source": [
    "device = 'mps' if torch.backends.mps.is_available() else 'cuda' if torch.cuda.is_available() else 'cpu'\n",
    "print(device)\n",
    "\n",
    "criterion = nn.CrossEntropyLoss()"
   ]
  },
  {
   "cell_type": "code",
   "execution_count": 64,
   "metadata": {},
   "outputs": [],
   "source": [
    "def train(net, optimizer, criterion, train_loader, val_loader, device, epochs=10, EARLY_STOPPING=3):\n",
    "    BEST_MODEL    = None\n",
    "    BEST_VAL_LOSS = float('inf')\n",
    "    train_losses  = []\n",
    "    valid_losses  = []\n",
    "\n",
    "    for epoch in range(epochs):\n",
    "\n",
    "        # Training loop\n",
    "        net.train()\n",
    "        running_loss = 0.0\n",
    "        for batch in tqdm(train_loader):\n",
    "            inputs = batch[0].to(device)\n",
    "            labels = batch[1].to(device)\n",
    "            optimizer.zero_grad()\n",
    "            output = net(inputs)\n",
    "            loss   = criterion(output, labels)\n",
    "            loss.backward()\n",
    "            optimizer.step()\n",
    "            running_loss += loss.item()\n",
    "        train_losses.append(running_loss / len(train_loader))\n",
    "        \n",
    "\n",
    "        # Evaulation loop\n",
    "        net.eval()\n",
    "        running_loss = 0.0\n",
    "        for batch in val_loader:\n",
    "            inputs = batch[0].to(device)\n",
    "            labels = batch[1].to(device)\n",
    "            output = net(inputs)\n",
    "            loss   = criterion(output, labels)\n",
    "            running_loss += loss.item()\n",
    "        valid_losses.append(running_loss / len(val_loader))\n",
    "\n",
    "        print(f\"Epoch {epoch + 1} Train Loss: {train_losses[-1]:6.4f}, Val Loss: {valid_losses[-1]:6.4f}\")\n",
    "\n",
    "        # Early stopping\n",
    "        if valid_losses[-1] < BEST_VAL_LOSS:\n",
    "            BEST_VAL_LOSS = valid_losses[-1]\n",
    "            BEST_MODEL    = net.state_dict()\n",
    "            early_stopping_rounds = 1\n",
    "        else:\n",
    "            early_stopping_rounds += 1\n",
    "            if early_stopping_rounds == EARLY_STOPPING:\n",
    "                print(f\"Early stopping after {epoch + 1} epochs\")\n",
    "                break\n",
    "\n",
    "    return BEST_MODEL, train_losses, valid_losses"
   ]
  },
  {
   "cell_type": "code",
   "execution_count": 65,
   "metadata": {},
   "outputs": [],
   "source": [
    "def get_trained_model(net=None,\n",
    "                      optimizer=None,\n",
    "                      criterion=None,\n",
    "                      train_loader=None,\n",
    "                      val_loader=None,\n",
    "                      model_path=None,\n",
    "                      train_new_model=False,\n",
    "                      device='cpu',\n",
    "                      epochs=10,\n",
    "                      early_stopping_rounds=2):\n",
    "    \"\"\"\n",
    "    Get a trained model.\n",
    "    :param net: model to train\n",
    "    :param optimizer: optimizer to use\n",
    "    :param criterion: loss function to use\n",
    "    :param train_loader: training data\n",
    "    :param val_loader: validation data\n",
    "    :param model_path: path to model to load\n",
    "    :param train_new_model: whether to train a new model\n",
    "    :param device: the device to send the data to\n",
    "    :param epochs: number of epochs to train\n",
    "    :return: trained model, train losses, validation losses\n",
    "    \"\"\"\n",
    "    if model_path is not None:\n",
    "        net.load_state_dict(torch.load(model_path))\n",
    "    else:\n",
    "        if train_new_model:\n",
    "            net = net or ClassificationBERTModel(AutoModel.from_pretrained(model_name), len(id2name)).to(device)\n",
    "            optimizer = optimizer or optim.Adam(net.parameters(), lr=1e-5)\n",
    "            net, train_losses, val_losses = train(net, optimizer, criterion, train_loader, val_loader, device, epochs, early_stopping_rounds)\n",
    "            torch.save(net, \"model.pt\")\n",
    "    return net, train_losses, val_losses"
   ]
  },
  {
   "cell_type": "code",
   "execution_count": 66,
   "metadata": {},
   "outputs": [],
   "source": [
    "# This code can be used to train on a subset and test hyperparameters\n",
    "\n",
    "batch_size = 8\n",
    "max_length = 64\n",
    "\n",
    "num_train_batches = 5\n",
    "num_val_batches   = 5\n",
    "num_test_batches  = 100\n",
    "\n",
    "train_len = batch_size * num_train_batches\n",
    "val_len   = batch_size * num_val_batches\n",
    "test_len  = batch_size * num_test_batches\n",
    "\n",
    "train_data = BERTloader(train_df['data'].tolist()[:train_len], train_df['label'][:train_len], tokenizer, device, custom_collate=custom_collate, batch_size=batch_size, max_length=max_length)\n",
    "val_data   = BERTloader(val_df['data'].tolist()[:val_len], val_df['label'][:val_len], tokenizer, device, custom_collate=custom_collate, batch_size=batch_size, max_length=max_length)\n",
    "test_data  = BERTloader(test_df['data'].tolist()[:test_len], test_df['label'][:test_len], tokenizer, device, custom_collate=custom_collate, batch_size=batch_size, max_length=max_length)"
   ]
  },
  {
   "cell_type": "code",
   "execution_count": 67,
   "metadata": {},
   "outputs": [],
   "source": [
    "# This code is used to train on the full dataset\n",
    "\n",
    "train_data = BERTloader(train_df['data'].tolist(), train_df['label'], tokenizer, device, custom_collate=custom_collate, batch_size=32, max_length=64)\n",
    "val_data   = BERTloader(val_df['data'].tolist(), val_df['label'], tokenizer, device, custom_collate=custom_collate, batch_size=32, max_length=64)\n",
    "test_data  = BERTloader(test_df['data'].tolist(), test_df['label'], tokenizer, device, custom_collate=custom_collate, batch_size=32, max_length=64)"
   ]
  },
  {
   "cell_type": "code",
   "execution_count": 68,
   "metadata": {
    "editable": true,
    "slideshow": {
     "slide_type": ""
    },
    "tags": []
   },
   "outputs": [
    {
     "name": "stderr",
     "output_type": "stream",
     "text": [
      "100%|█████████████████████████████████████████████████████████████████████████████████████████| 379/379 [06:14<00:00,  1.01it/s]\n"
     ]
    },
    {
     "name": "stdout",
     "output_type": "stream",
     "text": [
      "Epoch 1 Train Loss: 2.0217, Val Loss: 1.8574\n"
     ]
    },
    {
     "name": "stderr",
     "output_type": "stream",
     "text": [
      "100%|█████████████████████████████████████████████████████████████████████████████████████████| 379/379 [05:37<00:00,  1.12it/s]\n"
     ]
    },
    {
     "name": "stdout",
     "output_type": "stream",
     "text": [
      "Epoch 2 Train Loss: 1.8449, Val Loss: 1.8374\n"
     ]
    },
    {
     "name": "stderr",
     "output_type": "stream",
     "text": [
      "100%|█████████████████████████████████████████████████████████████████████████████████████████| 379/379 [05:32<00:00,  1.14it/s]\n"
     ]
    },
    {
     "name": "stdout",
     "output_type": "stream",
     "text": [
      "Epoch 3 Train Loss: 1.8194, Val Loss: 1.8229\n"
     ]
    },
    {
     "name": "stderr",
     "output_type": "stream",
     "text": [
      "100%|█████████████████████████████████████████████████████████████████████████████████████████| 379/379 [05:28<00:00,  1.15it/s]\n"
     ]
    },
    {
     "name": "stdout",
     "output_type": "stream",
     "text": [
      "Epoch 4 Train Loss: 1.7967, Val Loss: 1.8142\n"
     ]
    },
    {
     "name": "stderr",
     "output_type": "stream",
     "text": [
      "100%|█████████████████████████████████████████████████████████████████████████████████████████| 379/379 [05:34<00:00,  1.13it/s]\n"
     ]
    },
    {
     "name": "stdout",
     "output_type": "stream",
     "text": [
      "Epoch 5 Train Loss: 1.7817, Val Loss: 1.8169\n"
     ]
    },
    {
     "name": "stderr",
     "output_type": "stream",
     "text": [
      "100%|█████████████████████████████████████████████████████████████████████████████████████████| 379/379 [05:36<00:00,  1.13it/s]\n"
     ]
    },
    {
     "name": "stdout",
     "output_type": "stream",
     "text": [
      "Epoch 6 Train Loss: 1.7678, Val Loss: 1.8075\n"
     ]
    },
    {
     "name": "stderr",
     "output_type": "stream",
     "text": [
      "100%|█████████████████████████████████████████████████████████████████████████████████████████| 379/379 [05:42<00:00,  1.11it/s]\n"
     ]
    },
    {
     "name": "stdout",
     "output_type": "stream",
     "text": [
      "Epoch 7 Train Loss: 1.7558, Val Loss: 1.8047\n"
     ]
    },
    {
     "name": "stderr",
     "output_type": "stream",
     "text": [
      "100%|█████████████████████████████████████████████████████████████████████████████████████████| 379/379 [05:36<00:00,  1.13it/s]\n"
     ]
    },
    {
     "name": "stdout",
     "output_type": "stream",
     "text": [
      "Epoch 8 Train Loss: 1.7477, Val Loss: 1.7999\n"
     ]
    },
    {
     "name": "stderr",
     "output_type": "stream",
     "text": [
      "100%|█████████████████████████████████████████████████████████████████████████████████████████| 379/379 [05:42<00:00,  1.11it/s]\n"
     ]
    },
    {
     "name": "stdout",
     "output_type": "stream",
     "text": [
      "Epoch 9 Train Loss: 1.7424, Val Loss: 1.8029\n"
     ]
    },
    {
     "name": "stderr",
     "output_type": "stream",
     "text": [
      "100%|█████████████████████████████████████████████████████████████████████████████████████████| 379/379 [05:39<00:00,  1.12it/s]\n"
     ]
    },
    {
     "name": "stdout",
     "output_type": "stream",
     "text": [
      "Epoch 10 Train Loss: 1.7369, Val Loss: 1.8003\n"
     ]
    },
    {
     "name": "stderr",
     "output_type": "stream",
     "text": [
      "100%|█████████████████████████████████████████████████████████████████████████████████████████| 379/379 [05:35<00:00,  1.13it/s]\n"
     ]
    },
    {
     "name": "stdout",
     "output_type": "stream",
     "text": [
      "Epoch 11 Train Loss: 1.7320, Val Loss: 1.8076\n"
     ]
    },
    {
     "name": "stderr",
     "output_type": "stream",
     "text": [
      "100%|█████████████████████████████████████████████████████████████████████████████████████████| 379/379 [05:34<00:00,  1.13it/s]\n"
     ]
    },
    {
     "name": "stdout",
     "output_type": "stream",
     "text": [
      "Epoch 12 Train Loss: 1.7282, Val Loss: 1.8008\n"
     ]
    },
    {
     "name": "stderr",
     "output_type": "stream",
     "text": [
      "100%|█████████████████████████████████████████████████████████████████████████████████████████| 379/379 [05:26<00:00,  1.16it/s]\n"
     ]
    },
    {
     "name": "stdout",
     "output_type": "stream",
     "text": [
      "Epoch 13 Train Loss: 1.7260, Val Loss: 1.7977\n"
     ]
    },
    {
     "name": "stderr",
     "output_type": "stream",
     "text": [
      "100%|█████████████████████████████████████████████████████████████████████████████████████████| 379/379 [05:27<00:00,  1.16it/s]\n"
     ]
    },
    {
     "name": "stdout",
     "output_type": "stream",
     "text": [
      "Epoch 14 Train Loss: 1.7224, Val Loss: 1.7996\n"
     ]
    },
    {
     "name": "stderr",
     "output_type": "stream",
     "text": [
      "100%|█████████████████████████████████████████████████████████████████████████████████████████| 379/379 [05:37<00:00,  1.12it/s]\n"
     ]
    },
    {
     "name": "stdout",
     "output_type": "stream",
     "text": [
      "Epoch 15 Train Loss: 1.7194, Val Loss: 1.7982\n"
     ]
    },
    {
     "name": "stderr",
     "output_type": "stream",
     "text": [
      "100%|█████████████████████████████████████████████████████████████████████████████████████████| 379/379 [05:45<00:00,  1.10it/s]\n"
     ]
    },
    {
     "name": "stdout",
     "output_type": "stream",
     "text": [
      "Epoch 16 Train Loss: 1.7167, Val Loss: 1.8044\n"
     ]
    }
   ],
   "source": [
    "net, train_losses, val_losses = get_trained_model(None, None, criterion,\n",
    "                                                  train_data, val_data,\n",
    "                                                  model_path=None, train_new_model=True,\n",
    "                                                  device=device, epochs=16, early_stopping_rounds=6)"
   ]
  },
  {
   "cell_type": "markdown",
   "metadata": {},
   "source": [
    "## Testing and Reporting"
   ]
  },
  {
   "cell_type": "code",
   "execution_count": 69,
   "metadata": {},
   "outputs": [],
   "source": [
    "def test(net, data_loader, criterion, device):\n",
    "    net.eval()\n",
    "    running_loss = 0.0\n",
    "    correct      = 0\n",
    "    total        = 0\n",
    "\n",
    "    with torch.no_grad():\n",
    "        for batch in tqdm(data_loader):\n",
    "            inputs = batch[0].to(device)\n",
    "            labels = batch[1].to(device)\n",
    "            output = net(inputs)\n",
    "            loss   = criterion(output, labels)\n",
    "            running_loss += loss.item()\n",
    "            _, predicted = torch.max(output.data, 1)\n",
    "            total += labels.size(0)\n",
    "            correct += (predicted == labels).sum().item()\n",
    "\n",
    "    return running_loss / len(data_loader), correct / total"
   ]
  },
  {
   "cell_type": "code",
   "execution_count": 70,
   "metadata": {
    "editable": true,
    "slideshow": {
     "slide_type": ""
    },
    "tags": []
   },
   "outputs": [
    {
     "name": "stderr",
     "output_type": "stream",
     "text": [
      "100%|█████████████████████████████████████████████████████████████████████████████████████████| 379/379 [01:47<00:00,  3.54it/s]\n",
      "100%|███████████████████████████████████████████████████████████████████████████████████████████| 82/82 [00:22<00:00,  3.63it/s]\n",
      "100%|███████████████████████████████████████████████████████████████████████████████████████████| 82/82 [00:23<00:00,  3.44it/s]"
     ]
    },
    {
     "name": "stdout",
     "output_type": "stream",
     "text": [
      "Dataset       Loss\n",
      "---------  -------\n",
      "Train      1.71215\n",
      "Val        1.7993\n",
      "Test       1.80165\n",
      "\n",
      "Dataset      Accuracy\n",
      "---------  ----------\n",
      "Train        0.906771\n",
      "Val          0.817411\n",
      "Test         0.81657\n"
     ]
    },
    {
     "name": "stderr",
     "output_type": "stream",
     "text": [
      "\n"
     ]
    }
   ],
   "source": [
    "import tabulate\n",
    "\n",
    "model = ClassificationBERTModel(AutoModel.from_pretrained(model_name), len(id2name)).to(device)\n",
    "model.load_state_dict(net)\n",
    "\n",
    "train_loss, train_acc = test(model, train_data, criterion, device)\n",
    "val_loss, val_acc     = test(model, val_data, criterion, device)\n",
    "test_loss, test_acc   = test(model, test_data, criterion, device)\n",
    "\n",
    "table1 = [[\"Train\", train_loss], [\"Val\", val_loss], [\"Test\", test_loss]]\n",
    "table2 = [[\"Train\", train_acc], [\"Val\", val_acc], [\"Test\", test_acc]]\n",
    "\n",
    "print(tabulate.tabulate(table1, headers=[\"Dataset\", \"Loss\"]))\n",
    "print()\n",
    "print(tabulate.tabulate(table2, headers=[\"Dataset\", \"Accuracy\"]))"
   ]
  },
  {
   "cell_type": "code",
   "execution_count": 71,
   "metadata": {},
   "outputs": [
    {
     "data": {
      "image/png": "[encoded data removed]",
      "text/plain": [
       "<Figure size 640x480 with 1 Axes>"
      ]
     },
     "metadata": {},
     "output_type": "display_data"
    }
   ],
   "source": [
    "plt.plot(range(1, len(train_losses)+1), train_losses, label=\"Train Loss\")\n",
    "plt.plot(range(1, len(val_losses)+1), val_losses, label=\"Validation Loss\")\n",
    "plt.plot(len(train_losses), test_loss, \"ro\", label=\"Test Loss\")\n",
    "plt.legend()\n",
    "plt.show()"
   ]
  },
  {
   "cell_type": "markdown",
   "metadata": {
    "editable": true,
    "slideshow": {
     "slide_type": ""
    },
    "tags": []
   },
   "source": [
    "It appears that the model learns well. Furthermore it looks like performance could still improve with futher training.\n",
    "\n",
    "We conducted multiple experiments with a subset of the data for faster testing, which showed that the improvements of training for longer than 16 epochs does improve performance and that overfitting is not an issue, even if training set accuracy reaches 1.0, but that the improvements on the validation set are marginal. We also tested different learning rates, different values for the maximum length of a text (via the `max_length` argument of the tokenizer), different batch sizes, and tried using \"tiny BERT\" (gaunernst/bert-tiny-uncased). None of these showed any significantly better performance over the current settings. Tiny BERT was about ten times faster but could not achieve an accuracy of over 0.6."
   ]
  }
 ],
 "metadata": {
  "kernelspec": {
   "display_name": "Python 3 (ipykernel)",
   "language": "python",
   "name": "python3"
  },
  "language_info": {
   "codemirror_mode": {
    "name": "ipython",
    "version": 3
   },
   "file_extension": ".py",
   "mimetype": "text/x-python",
   "name": "python",
   "nbconvert_exporter": "python",
   "pygments_lexer": "ipython3",
   "version": "3.11.7"
  }
 },
 "nbformat": 4,
 "nbformat_minor": 4
}
