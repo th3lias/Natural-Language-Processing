{
 "cells": [
  {
   "cell_type": "markdown",
   "metadata": {},
   "source": [
    "Please fill out the information of your group!\n",
    "\n",
    "| <p style=\"text-align: center;\">First Name</p>  | <p style=\"text-align: center;\">Family Name</p> | Matr.-No. |\n",
    "| ---------------------------------------------- | ---------------------------------------------- | -------- |\n",
    "| <p style=\"text-align: left\">Elias</p>| <p style=\"text-align: left\">Mindlberger</p> | k12043382 |\n",
    "| <p style=\"text-align: left\">Pascal</p>| <p style=\"text-align: left\">Pilz</p> | k12111234 |\n"
   ]
  },
  {
   "cell_type": "markdown",
   "metadata": {},
   "source": [
    "<h2 style=\"text-align: center\">344.105/6/7 UE: Natural Language Processing (WS2022/23)</h2>\n",
    "<h1 style=\"color:rgb(0,120,170)\">Assignment 1</h1>\n",
    "<h2 style=\"color:rgb(0,120,170)\">Document Classification with Standard Machine Learning Methods</h2>"
   ]
  },
  {
   "cell_type": "markdown",
   "metadata": {},
   "source": [
    "<div style=\"background-color:rgb(224, 243, 255)\">\n",
    "<b>Terms of Use</b><br>\n",
    "This  material is prepared for educational purposes at the Johannes Kepler University (JKU) Linz, and is exclusively provided to the registered students of the mentioned course at JKU. It is strictly forbidden to distribute the current file, the contents of the assignment, and its solution. The use or reproduction of this manuscript is only allowed for educational purposes in non-profit organizations, while in this case, the explicit prior acceptance of the author(s) is required.\n",
    "\n",
    "**Authors:** Navid Rekab-saz, Oleg Lesota<br>\n",
    "\n",
    "</div>"
   ]
  },
  {
   "cell_type": "markdown",
   "metadata": {},
   "source": [
    "<h2>Table of contents</h2>\n",
    "<ol>\n",
    "    <a href=\"#section-general-guidelines\"><li style=\"font-size:large;font-weight:bold\">General Guidelines</li></a>\n",
    "    <a href=\"#section-preprocessing\"><li style=\"font-size:large;font-weight:bold\">Task A: Pre-processing & Feature Extraction (15 points)</li></a>\n",
    "    <a href=\"#section-training\"><li style=\"font-size:large;font-weight:bold\">Task B: Training and Results Analysis (15 points)</li></a>\n",
    "    <a href=\"#section-optional\"><li style=\"font-size:large;font-weight:bold\">Task C: Linear Model Interpretability (2 extra point)</li></a>\n",
    "    \n",
    "</ol>"
   ]
  },
  {
   "cell_type": "markdown",
   "metadata": {},
   "source": [
    "<a name=\"section-general-guidelines\"></a><h2 style=\"color:rgb(0,120,170)\">General Guidelines</h2>"
   ]
  },
  {
   "cell_type": "markdown",
   "metadata": {},
   "source": [
    "<div style=\"background-color:rgb(224, 243, 255)\">\n",
    "\n",
    "### Assignment objective\n",
    "\n",
    "The aim of this assignment is to implement a document (sentence) classification model using (standard) machine learning methods. The assignment in total has **30 points**; it also offers **2 extra points** which can cover any missing point.\n",
    "\n",
    "This Notebook encompasses all aspects of the assignment, namely the descriptions of tasks as well as your solutions and reports. Feel free to add any required cell for solutions. The cells can contain code, reports, charts, tables, or any other material, required for the assignment. Feel free to provide the solutions in an interactive and visual way! \n",
    "\n",
    "Please discuss any unclear point in the assignment in the provided forum in MOODLE. It is also encouraged to provide answers to your peer's questions. However when submitting a post, keep in mind to avoid providing solutions. Please let the tutor(s) know shall you find any error or unclarity in the assignment.\n",
    "\n",
    "</div>\n"
   ]
  },
  {
   "cell_type": "markdown",
   "metadata": {},
   "source": [
    "<div style=\"background-color:rgb(224, 243, 255)\">\n",
    "\n",
    "### Libraries & Dataset\n",
    "\n",
    "The assignment should be implemented with recent versions of `Python` (>3.7). Any standard Python library can be used, so far that the library is free and can be simply installed using `pip` or `conda`. Examples of potentially useful libraries are `scikit-learn`, `numpy`, `scipy`, `gensim`, `nltk`, `spaCy`, and `AllenNLP`. Use the latest stable version of each library.\n",
    "\n",
    "To conduct the experiments, we use a subset of the `HumSet` dataset [1] (https://blog.thedeep.io/humset/). `HumSet` is created by the DEEP (https://www.thedeep.io) project – an open source platform which aims to facilitate processing of textual data for international humanitarian response organizations. The platform enables the classification of text excerpts, extracted from news and reports into a set of domain specific classes. The provided dataset contains the classes (labels) referring to the humanitarian sectors like agriculture, health, and protection. The dataset contains an overall number of 17,301 data points. \n",
    "\n",
    "Download the dataset from the Moodle page of the course.\n",
    "\n",
    "the provided zip file consists of the following files:\n",
    "- `thedeep.subset.train.txt`: Train set in csv format with three fields: sentence_id, text, and label.\n",
    "- `thedeep.subset.validation.txt`: Validation set in csv format with three fields: sentence_id, text, and label.\n",
    "- `thedeep.subset.test.txt`: Test set in csv format with three fields: sentence_id, text, and label.\n",
    "- `thedeep.subset.labels.txt`: Captions of the labels.\n",
    "- `thedeep.ToU.txt`: Terms of use of the dataset.\n",
    "\n",
    "[1] HumSet: Dataset of Multilingual Information Extraction and Classification for Humanitarian Crises Response\n",
    "*Selim Fekih, Nicolo' Tamagnone, Benjamin Minixhofer, Ranjan Shrestha, Ximena Contla, Ewan Oglethorpe and Navid Rekabsaz.* \n",
    "In Findings of the 2022 Conference on Empirical Methods in Natural Language Processing (Findings of EMNLP), December 2022.\n",
    "\n",
    "</div>\n",
    "\n"
   ]
  },
  {
   "cell_type": "markdown",
   "metadata": {},
   "source": [
    "<div style=\"background-color:rgb(224, 243, 255)\">\n",
    "\n",
    "### Submission\n",
    "\n",
    "Each group should submit the following two files:\n",
    "\n",
    "- One Jupyter Notebook file (`.ipynb`), containing all the code, results, visualizations, etc. **In the submitted Notebook, all the results and visualizations should already be present, and can be observed simply by loading the Notebook in a browser.** The Notebook must be self-contained, meaning that (if necessary) one can run all the cells from top to bottom without any error. Do not forget to put in your names and student numbers in the first cell of the Notebook. \n",
    "- The HTML file (`.html`) achieved from exporting the Jupyter Notebook to HTML (Download As HTML).\n",
    "\n",
    "You do not need to include the data files in the submission.\n",
    "\n",
    "\n",
    "</div>"
   ]
  },
  {
   "cell_type": "markdown",
   "metadata": {},
   "source": [
    "<a name=\"section-preprocessing\"></a><h2 style=\"color:rgb(0,120,170)\">Task A: Pre-processing & Feature Extraction (15 points)</h2>"
   ]
  },
  {
   "cell_type": "markdown",
   "metadata": {},
   "source": [
    "<div style=\"background-color:rgb(224, 243, 255)\">\n",
    "    \n",
    "**Preprocessing (5 points).** Load the train, validation, and test sets. Study the text and according to your judgements, apply at least <ins>two text cleaning/preprocessing methods</ins>. Punctuations marks, numbers, dates, case-sensitivity are some examples of the elements which can be potentially considered for cleaning/preprocessing. Tokenize the result text with a tokenizer of your choice. Report your approaches to text cleaning and tokenization and the reasons of your choices. Provide some examples, showing the effects of the applied approaches on the text.\n",
    "\n",
    "**Creating dictionary (5 points).** Create a dictionary of vocabularies following the guidelines discussed in the lecture. Next, reduce the size of dictionary using a method of your choice, for instance by considering a cut-off threshold on the tokens with low frequencies. When removing tokens from the dictionary, consider a strategy for handling Out-Of-Vocabulary (OOV) tokens, namely the ones in the train/validation/test datasets that that are not anymore in the dictionary. Some possible strategies could be to remove OOVs completely from the texts, or to replace them with a special token like <OOV\\>. Explain your approaches and report the statistics of the dictionary before and after the reduction.\n",
    "\n",
    "**Creating sentence vectors (5 points).** Use the dictionary to prepare <ins>two variations of document representation vectors</ins>, separately for train, validation, and test sets. Both variations follow a Bag-of-Words approach with a different token weighting method. One applied weighting must be `tf-idf` and the other one can be any other method discussed in the lecture such as `tc`, `tf`, `BM25`. These term weighting methods should be implemented; using a library to readily calculate the term weightings is not allowed. Report the applied approaches. Calculate and report the sparsity rate of the vectors of train, validation, and test sets, namely what percentages of the vectors in each set are filled with zeros.\n",
    "\n",
    "</div>"
   ]
  },
  {
   "cell_type": "markdown",
   "metadata": {
    "jp-MarkdownHeadingCollapsed": true
   },
   "source": [
    "## Imports and globabl variables"
   ]
  },
  {
   "cell_type": "code",
   "execution_count": 1,
   "metadata": {},
   "outputs": [
    {
     "name": "stdout",
     "output_type": "stream",
     "text": [
      "Intel MKL WARNING: Support of Intel(R) Streaming SIMD Extensions 4.2 (Intel(R) SSE4.2) enabled only processors has been deprecated. Intel oneAPI Math Kernel Library 2025.0 will require Intel(R) Advanced Vector Extensions (Intel(R) AVX) instructions.\n",
      "Intel MKL WARNING: Support of Intel(R) Streaming SIMD Extensions 4.2 (Intel(R) SSE4.2) enabled only processors has been deprecated. Intel oneAPI Math Kernel Library 2025.0 will require Intel(R) Advanced Vector Extensions (Intel(R) AVX) instructions.\n"
     ]
    }
   ],
   "source": [
    "import sklearn as skl\n",
    "import numpy as np\n",
    "import scipy as sc\n",
    "import gensim\n",
    "import nltk\n",
    "import spacy\n",
    "# import allennlp  # i didn't manage to install it via conda or pip\n",
    "\n",
    "import re\n",
    "import pandas as pd\n",
    "from matplotlib import pyplot as plt\n",
    "import seaborn as sns"
   ]
  },
  {
   "cell_type": "code",
   "execution_count": 2,
   "metadata": {},
   "outputs": [],
   "source": [
    "DATA_PATH = r\"./nlp2023_24_data/\"\n",
    "\n",
    "TRAIN_PATH = DATA_PATH + \"thedeep.subset.train.txt\"\n",
    "VAL_PATH = DATA_PATH + \"thedeep.subset.validation.txt\"\n",
    "TEST_PATH = DATA_PATH + \"thedeep.subset.test.txt\"\n",
    "\n",
    "LABEL_LEGEND_PATH = DATA_PATH + \"thedeep.labels.txt\"\n",
    "\n",
    "COL_NAMES = [\"_id\", \"data\", \"label\"]\n",
    "\n",
    "UNKNOWN = \"<UNK>\""
   ]
  },
  {
   "cell_type": "markdown",
   "metadata": {
    "jp-MarkdownHeadingCollapsed": true
   },
   "source": [
    "## Preprocessing"
   ]
  },
  {
   "cell_type": "markdown",
   "metadata": {},
   "source": [
    "### Loading the data"
   ]
  },
  {
   "cell_type": "code",
   "execution_count": 3,
   "metadata": {},
   "outputs": [
    {
     "name": "stdout",
     "output_type": "stream",
     "text": [
      "RAW_TRAIN.shape=(12110, 3), RAW_VAL.shape=(2596, 3), RAW_TEST.shape=(2595, 3)\n"
     ]
    }
   ],
   "source": [
    "RAW_TRAIN = pd.read_csv(TRAIN_PATH, header=None)\n",
    "RAW_VAL = pd.read_csv(VAL_PATH, header=None)\n",
    "RAW_TEST = pd.read_csv(TEST_PATH, header=None)\n",
    "\n",
    "RAW_TRAIN.columns = RAW_VAL.columns = RAW_TEST.columns = COL_NAMES\n",
    "\n",
    "print(f\"{RAW_TRAIN.shape=}, {RAW_VAL.shape=}, {RAW_TEST.shape=}\")"
   ]
  },
  {
   "cell_type": "code",
   "execution_count": 4,
   "metadata": {},
   "outputs": [
    {
     "data": {
      "text/html": [
       "<div>\n",
       "<style scoped>\n",
       "    .dataframe tbody tr th:only-of-type {\n",
       "        vertical-align: middle;\n",
       "    }\n",
       "\n",
       "    .dataframe tbody tr th {\n",
       "        vertical-align: top;\n",
       "    }\n",
       "\n",
       "    .dataframe thead th {\n",
       "        text-align: right;\n",
       "    }\n",
       "</style>\n",
       "<table border=\"1\" class=\"dataframe\">\n",
       "  <thead>\n",
       "    <tr style=\"text-align: right;\">\n",
       "      <th></th>\n",
       "      <th>_id</th>\n",
       "      <th>data</th>\n",
       "      <th>label</th>\n",
       "    </tr>\n",
       "  </thead>\n",
       "  <tbody>\n",
       "    <tr>\n",
       "      <th>0</th>\n",
       "      <td>5446</td>\n",
       "      <td>In addition to the immediate life-saving inter...</td>\n",
       "      <td>9</td>\n",
       "    </tr>\n",
       "    <tr>\n",
       "      <th>1</th>\n",
       "      <td>8812</td>\n",
       "      <td>There are approximately 2.6 million people cla...</td>\n",
       "      <td>3</td>\n",
       "    </tr>\n",
       "    <tr>\n",
       "      <th>2</th>\n",
       "      <td>16709</td>\n",
       "      <td>While aid imports have held up recently, comme...</td>\n",
       "      <td>5</td>\n",
       "    </tr>\n",
       "    <tr>\n",
       "      <th>3</th>\n",
       "      <td>3526</td>\n",
       "      <td>Heavy rainfalls as well as onrush of water fro...</td>\n",
       "      <td>0</td>\n",
       "    </tr>\n",
       "    <tr>\n",
       "      <th>4</th>\n",
       "      <td>4928</td>\n",
       "      <td>Based on field reports 9 , the main production...</td>\n",
       "      <td>3</td>\n",
       "    </tr>\n",
       "  </tbody>\n",
       "</table>\n",
       "</div>"
      ],
      "text/plain": [
       "     _id                                               data  label\n",
       "0   5446  In addition to the immediate life-saving inter...      9\n",
       "1   8812  There are approximately 2.6 million people cla...      3\n",
       "2  16709  While aid imports have held up recently, comme...      5\n",
       "3   3526  Heavy rainfalls as well as onrush of water fro...      0\n",
       "4   4928  Based on field reports 9 , the main production...      3"
      ]
     },
     "execution_count": 4,
     "metadata": {},
     "output_type": "execute_result"
    }
   ],
   "source": [
    "RAW_TRAIN.head()"
   ]
  },
  {
   "cell_type": "code",
   "execution_count": 5,
   "metadata": {},
   "outputs": [
    {
     "name": "stdout",
     "output_type": "stream",
     "text": [
      "{0: 'Agriculture', 1: 'Cross', 2: 'Education', 3: 'Food', 4: 'Health', 5: 'Livelihood', 6: 'Logistic', 7: 'NFI', 8: 'Nutrition', 9: 'Protection', 10: 'Shelter', 11: 'WASH'}\n"
     ]
    }
   ],
   "source": [
    "idx_to_name = {}\n",
    "\n",
    "with open(LABEL_LEGEND_PATH, \"r\") as f:\n",
    "    for line in f:\n",
    "        num_name = line.strip().split(',')\n",
    "        num, name = num_name\n",
    "        idx_to_name[int(num)] = name\n",
    "\n",
    "print(idx_to_name)"
   ]
  },
  {
   "cell_type": "markdown",
   "metadata": {},
   "source": [
    "### Cleaning the texts"
   ]
  },
  {
   "cell_type": "markdown",
   "metadata": {},
   "source": [
    "**We choose a method only based on the training data as to keep a clean split between training and testing.**"
   ]
  },
  {
   "cell_type": "code",
   "execution_count": 6,
   "metadata": {},
   "outputs": [
    {
     "name": "stdout",
     "output_type": "stream",
     "text": [
      "In addition to the immediate life-saving interventions, UNICEF is taking action to protect 200 children who have arrived at the camps in Angola without their families.\n",
      "\n",
      "There are approximately 2.6 million people classified in this phase, of which 0.5 million are already in Emergency (IPC Phase 4) but do not meet the threshold of more than 20 percent of the population being in this Phase, for the areas to be classified in Phase 4. The counties classified in Crisis (IPC Phase 3) are Turkana, Marsabit, West Pokot, Samburu, Isiolo and Lamu, as well as parts of Mandera, Wajir, Garissa, Baringo, Laikipia, Kilifi and Kwale. Households in this category are marginally able to meet their minimum food needs but only by more rapidly depleting their assets and thus undermining their food consumption. In the absence of adequate cross-sectoral interventions, more areas and households in these counties are expected to fall into this phase by October 2017.\n"
     ]
    }
   ],
   "source": [
    "print(\"\\n\\n\".join([RAW_TRAIN.iloc[i][\"data\"] for i in range(2)]))"
   ]
  },
  {
   "cell_type": "markdown",
   "metadata": {},
   "source": [
    "**Based on this it appears that most words containing uppercase letters are either the beginning of a sentence, unique names, or unique abbreviations. Therefore, turning the whole texts lowercase should not be an issue. Furthermore we also remove punctuation, special characters, and numbers, as these probably don't hold a lot of meaning in the simple methods we will use in this assignment. Numbers get replaces with \\<num>.**"
   ]
  },
  {
   "cell_type": "code",
   "execution_count": 7,
   "metadata": {},
   "outputs": [],
   "source": [
    "def clean_string(val):\n",
    "    if isinstance(val, str):\n",
    "        val = val.lower()\n",
    "        val = re.sub(r\"\\W\", \" \", val)\n",
    "        val = re.sub(r\"\\d+\", \"<num>\", val)\n",
    "        val = re.sub(r\"\\s{2,}\", \" \", val)\n",
    "        return val\n",
    "    else:\n",
    "        return val\n",
    "\n",
    "train = RAW_TRAIN.map(clean_string)\n",
    "val = RAW_VAL.map(clean_string)\n",
    "test = RAW_TEST.map(clean_string)"
   ]
  },
  {
   "cell_type": "code",
   "execution_count": 8,
   "metadata": {},
   "outputs": [
    {
     "name": "stdout",
     "output_type": "stream",
     "text": [
      "in addition to the immediate life saving interventions unicef is taking action to protect <num> children who have arrived at the camps in angola without their families \n"
     ]
    }
   ],
   "source": [
    "print(train.iloc[0][\"data\"])"
   ]
  },
  {
   "cell_type": "markdown",
   "metadata": {},
   "source": [
    "### Tokenizing"
   ]
  },
  {
   "cell_type": "markdown",
   "metadata": {},
   "source": [
    "**I chose to tokenize myself, since I only want to split the words by spaces anyways and since tokenization functions from eg. gensim would not keep characters such as <>.**"
   ]
  },
  {
   "cell_type": "code",
   "execution_count": 9,
   "metadata": {},
   "outputs": [
    {
     "name": "stdout",
     "output_type": "stream",
     "text": [
      "['in', 'addition', 'to', 'the', 'immediate', 'life', 'saving', 'interventions', 'unicef', 'is', 'taking', 'action', 'to', 'protect', '<num>', 'children', 'who', 'have', 'arrived', 'at', 'the', 'camps', 'in', 'angola', 'without', 'their', 'families']\n"
     ]
    }
   ],
   "source": [
    "train = train.map(lambda x: x.split() if isinstance(x, str) else x)\n",
    "val = val.map(lambda x: x.split() if isinstance(x, str) else x)\n",
    "test = test.map(lambda x: x.split() if isinstance(x, str) else x)\n",
    "\n",
    "print(train.iloc[0][\"data\"])"
   ]
  },
  {
   "cell_type": "markdown",
   "metadata": {
    "jp-MarkdownHeadingCollapsed": true
   },
   "source": [
    "## Dictionary"
   ]
  },
  {
   "cell_type": "markdown",
   "metadata": {
    "jp-MarkdownHeadingCollapsed": true
   },
   "source": [
    "### Creating"
   ]
  },
  {
   "cell_type": "markdown",
   "metadata": {},
   "source": [
    "**We use gesnim to create a dictionary, since it has all the necessary functionality and is easy to use.**"
   ]
  },
  {
   "cell_type": "code",
   "execution_count": 10,
   "metadata": {},
   "outputs": [
    {
     "name": "stdout",
     "output_type": "stream",
     "text": [
      "Dictionary<26601 unique tokens: ['<num>', 'action', 'addition', 'angola', 'arrived']...>\n",
      "\n",
      "the: 10469, of: 10124, in: 9965, and: 9482, to: 8678, <num>: 8570, a: 5856, are: 4518, for: 4256, is: 4062\n",
      "\n",
      "ira: 1, nevadaa: 1, strand: 1, tayrona: 1, centin: 1, rsp: 1, cheruiyot: 1, cyril: 1, tasselling: 1, mirroring: 1\n"
     ]
    }
   ],
   "source": [
    "dictionary = gensim.corpora.Dictionary(train[\"data\"])\n",
    "\n",
    "print(dictionary)\n",
    "print()\n",
    "sorted_words = sorted(dictionary.token2id, key=lambda k: dictionary.dfs[dictionary.token2id[k]], reverse=True)\n",
    "print(\", \".join([f\"{word}: {dictionary.dfs[dictionary.token2id[word]]}\" for word in sorted_words[:10]]))\n",
    "print()\n",
    "print(\", \".join([f\"{word}: {dictionary.dfs[dictionary.token2id[word]]}\" for word in sorted_words[-10:]]))"
   ]
  },
  {
   "cell_type": "markdown",
   "metadata": {
    "jp-MarkdownHeadingCollapsed": true
   },
   "source": [
    "### Pruning"
   ]
  },
  {
   "cell_type": "markdown",
   "metadata": {},
   "source": [
    "**Next we use gensim again to prune the dictionary a little bit by removing some of the most and least common words. The following removes all words that appear in less than 3 documents and all words that appear in more than 50% of documents. We replace unkown and removed words with \\<UNK>.**"
   ]
  },
  {
   "cell_type": "code",
   "execution_count": 11,
   "metadata": {},
   "outputs": [
    {
     "name": "stdout",
     "output_type": "stream",
     "text": [
      "Dictionary<10586 unique tokens: ['action', 'addition', 'angola', 'arrived', 'at']...>\n",
      "\n",
      "by: 3505, as: 3499, that: 3298, were: 3084, has: 2869, at: 2729, been: 2650, people: 2642, reported: 2094, an: 2061\n",
      "\n",
      "coconut: 3, avoidable: 3, bottom: 3, dominance: 3, nalut: 3, ifelodun: 3, kiryandongo: 3, hubs: 3, andhra: 3, à: 3\n"
     ]
    }
   ],
   "source": [
    "# filters all words that appear in less than 3 and more than 50% of documents\n",
    "dictionary.filter_extremes(no_below=3, no_above=0.3)\n",
    "\n",
    "print(dictionary)\n",
    "print()\n",
    "sorted_words = sorted(dictionary.token2id, key=lambda k: dictionary.dfs[dictionary.token2id[k]], reverse=True)\n",
    "print(\", \".join([f\"{word}: {dictionary.dfs[dictionary.token2id[word]]}\" for word in sorted_words[:10]]))\n",
    "print()\n",
    "print(\", \".join([f\"{word}: {dictionary.dfs[dictionary.token2id[word]]}\" for word in sorted_words[-10:]]))\n",
    "\n",
    "# this inserts <UNK> at the last position in the dictionary\n",
    "temp = [[UNKNOWN]]\n",
    "dictionary.add_documents(temp)"
   ]
  },
  {
   "cell_type": "markdown",
   "metadata": {
    "jp-MarkdownHeadingCollapsed": true
   },
   "source": [
    "### Applying"
   ]
  },
  {
   "cell_type": "markdown",
   "metadata": {},
   "source": [
    "**Here we apply the dictionary to the train, val, and test data. This means we replace all tokens in the three corpora with their corresponding dictionary item. If the token was pruned it gets replaces with \\<UKN>.**"
   ]
  },
  {
   "cell_type": "code",
   "execution_count": 12,
   "metadata": {},
   "outputs": [
    {
     "name": "stdout",
     "output_type": "stream",
     "text": [
      "[10586, 1, 10586, 10586, 8, 10, 12, 9, 15, 10586, 13, 0, 10586, 11, 10586, 6, 16, 10586, 3, 4, 10586, 5, 10586, 2, 17, 14, 7]\n",
      "\n",
      "<UNK> addition <UNK> <UNK> immediate life saving interventions unicef <UNK> taking action <UNK> protect <UNK> children who <UNK> arrived at <UNK> camps <UNK> angola without their families\n",
      "\n",
      "<UNK>: 12105, by: 3505, as: 3499, that: 3298, were: 3084, has: 2869, at: 2729, been: 2650, people: 2642, reported: 2094\n",
      "\n",
      "Dictionary<10587 unique tokens: ['<UNK>', 'action', 'addition', 'angola', 'arrived']...>\n"
     ]
    }
   ],
   "source": [
    "# converting the data to ids, this way, any words that are in the data but in the dictionary will get the id for <UNK>\n",
    "idx_train = train.copy()\n",
    "idx_val = val.copy()\n",
    "idx_test = test.copy()\n",
    "idx_train[\"data\"] = [dictionary.doc2idx(doc, len(dictionary)-1) for doc in idx_train[\"data\"]]\n",
    "idx_val[\"data\"] = [dictionary.doc2idx(doc, len(dictionary)-1) for doc in idx_val[\"data\"]]\n",
    "idx_test[\"data\"] = [dictionary.doc2idx(doc, len(dictionary)-1) for doc in idx_test[\"data\"]]\n",
    "\n",
    "# we have to create this mapping manually (for some reason 🙄)\n",
    "dictionary.id2token = {v: k for k, v in dictionary.token2id.items()}\n",
    "\n",
    "# converting the data back from id to tokens\n",
    "tok_train = idx_train.copy()\n",
    "tok_val = idx_val.copy()\n",
    "tok_test = idx_test.copy()\n",
    "tok_train[\"data\"] = [[dictionary.id2token[id] for id in doc] for doc in idx_train[\"data\"]]\n",
    "tok_val[\"data\"] = [[dictionary.id2token[id] for id in doc] for doc in idx_val[\"data\"]]\n",
    "tok_test[\"data\"] = [[dictionary.id2token[id] for id in doc] for doc in idx_test[\"data\"]]\n",
    "\n",
    "# we rebuild the dicationary, this way we have the correct count of <UNK> and all other tokens that changed\n",
    "dictionary = gensim.corpora.Dictionary(tok_train[\"data\"])\n",
    "\n",
    "print(idx_train.loc[0][\"data\"])\n",
    "print()\n",
    "print(\" \".join(tok_train.loc[0][\"data\"]))\n",
    "print()\n",
    "sorted_words = sorted(dictionary.token2id, key=lambda k: dictionary.dfs[dictionary.token2id[k]], reverse=True)\n",
    "print(\", \".join([f\"{word}: {dictionary.dfs[dictionary.token2id[word]]}\" for word in sorted_words[:10]]))\n",
    "print()\n",
    "print(dictionary)"
   ]
  },
  {
   "cell_type": "markdown",
   "metadata": {
    "jp-MarkdownHeadingCollapsed": true
   },
   "source": [
    "## Sentence vectors"
   ]
  },
  {
   "cell_type": "markdown",
   "metadata": {
    "jp-MarkdownHeadingCollapsed": true
   },
   "source": [
    "### Unweighted document-word matrices"
   ]
  },
  {
   "cell_type": "code",
   "execution_count": 13,
   "metadata": {},
   "outputs": [
    {
     "name": "stdout",
     "output_type": "stream",
     "text": [
      "doc_matr_train.shape=(12110, 10587), doc_matr_val.shape=(2596, 10587), doc_matr_test.shape=(2595, 10587)\n"
     ]
    }
   ],
   "source": [
    "def my_bow(doc, n):\n",
    "    \"\"\"\n",
    "    This function takes a document and the length of the dictionary n and creates a vector of length n that holds the counts of the words in the document\n",
    "    \"\"\"\n",
    "    vec = np.zeros(n)\n",
    "    doc2bow = dictionary.doc2bow(doc)\n",
    "    indices = [item[0] for item in doc2bow]\n",
    "    values = [item[1] for item in doc2bow]\n",
    "    vec[indices] = values\n",
    "    return vec\n",
    "\n",
    "# create len(corpus)*len(dictionar) document-word matrix for each corpus. Used to calculated measures like tf-idf\n",
    "doc_matr_train = np.array([my_bow(doc, len(dictionary)) for doc in tok_train[\"data\"]])\n",
    "doc_matr_val = np.array([my_bow(doc, len(dictionary)) for doc in tok_val[\"data\"]])\n",
    "doc_matr_test = np.array([my_bow(doc, len(dictionary)) for doc in tok_test[\"data\"]])\n",
    "\n",
    "print(f\"{doc_matr_train.shape=}, {doc_matr_val.shape=}, {doc_matr_test.shape=}\")"
   ]
  },
  {
   "cell_type": "markdown",
   "metadata": {
    "jp-MarkdownHeadingCollapsed": true
   },
   "source": [
    "### tf-idf matrices"
   ]
  },
  {
   "cell_type": "code",
   "execution_count": 40,
   "metadata": {},
   "outputs": [],
   "source": [
    "def tf_idf(doc_matr):\n",
    "    \"\"\"\n",
    "    Calculates the tf-idf based on a document-word matrix\n",
    "    \"\"\"\n",
    "    # calucate term frequency\n",
    "    row_sums = np.sum(doc_matr, axis=1, keepdims=True)\n",
    "    tf = np.log1p(doc_matr / row_sums)\n",
    "\n",
    "    # calculate inverse document frequency\n",
    "    idf = np.log(doc_matr.shape[0] / (1 + np.count_nonzero(doc_matr_train, axis=0))).reshape(1, -1)\n",
    "    \n",
    "    return tf * idf"
   ]
  },
  {
   "cell_type": "code",
   "execution_count": 41,
   "metadata": {},
   "outputs": [],
   "source": [
    "tf_idf_train = tf_idf(doc_matr_train)\n",
    "tf_idf_val = tf_idf(doc_matr_val)\n",
    "tf_idf_test = tf_idf(doc_matr_test)"
   ]
  },
  {
   "cell_type": "markdown",
   "metadata": {
    "jp-MarkdownHeadingCollapsed": true
   },
   "source": [
    "### Pivoted Length Normalization"
   ]
  },
  {
   "cell_type": "markdown",
   "metadata": {},
   "source": [
    "**As a second weighting method we choose Pivoted Length Normalization, as it is a simple improvement over tf-idf that contain only one hyperparameter $b$.**"
   ]
  },
  {
   "cell_type": "code",
   "execution_count": 44,
   "metadata": {},
   "outputs": [],
   "source": [
    "def piv_length_norm(doc_matr, b=1):\n",
    "    \"\"\"\n",
    "    Calculates the pivoted length normalization based on a document-word matrix\n",
    "    \"\"\"\n",
    "    # First we calculate tf-idf\n",
    "    # calucate term frequency\n",
    "    row_sums = np.sum(doc_matr, axis=1, keepdims=True)\n",
    "    tf = np.log1p(doc_matr / row_sums)\n",
    "    # calculate inverse document frequency\n",
    "    idf = np.log(doc_matr.shape[0] / (1 + np.count_nonzero(doc_matr_train, axis=0))).reshape(1, -1)\n",
    "    # mulitply\n",
    "    tf_idf = tf * idf\n",
    "\n",
    "    # then we weigh this by the length of the documents\n",
    "    # average document length\n",
    "    avgdl = np.mean(np.sum(doc_matr, axis=0))\n",
    "    norm_val = (1 - b + b*row_sums/avgdl)\n",
    "    return tf_idf / norm_val"
   ]
  },
  {
   "cell_type": "code",
   "execution_count": 45,
   "metadata": {},
   "outputs": [],
   "source": [
    "pln_train = piv_length_norm(doc_matr_train)\n",
    "pln_val = piv_length_norm(doc_matr_val)\n",
    "pln_test = piv_length_norm(doc_matr_test)"
   ]
  },
  {
   "cell_type": "markdown",
   "metadata": {},
   "source": [
    "<a name=\"section-training\"></a><h2 style=\"color:rgb(0,120,170)\">Task B: Training and Results Analysis (15 points)</h2>"
   ]
  },
  {
   "cell_type": "markdown",
   "metadata": {},
   "source": [
    "<div style=\"background-color:rgb(224, 243, 255)\">\n",
    "\n",
    "To evaluate the models, use <ins>accuracy</ins> as the metric throughout the task. \n",
    "\n",
    "**Dummy baseline (2 points).** Create one dummy baseline classifier that predicts the validation/test labels only based on the distribution of the labels in the training set (without any use of the feature vectors). This is a weak baseline and acts as a sanity check for the actual classifiers.\n",
    "\n",
    "**Training and tuning classifiers (5 points).** Select at least <ins>two classification algorithms</ins> from standard machine learning classifiers. Using each classification algorithm, train a machine learning model on each of the variations of feature vectors. This should result in <ins>four experiment sets</ins> (2 variations of feature vectors × 2 classification algorithms). The ML model in each of the experiments possibly have several involving hyper-parameters. For each experiment, select <ins>one of the hyper-parameters and tune its value</ins>. The tuning process is done by first assigning at least <ins>three values</ins> to the hyper-parameter, then training separate models based on each value, and finally using the evaluation results on the validation set to select the best-performing model. Report the studied hyper-parameters, the evaluation results of each on validation set, and finally the selected value of the hyper-parameter. \n",
    "\n",
    "**Evaluation, reporting results, and discussion (3 point).** Evaluate the selected models of the four experiments on the test set. Report the results of <ins>the four experiments on both validation and test sets (side by side) in one table as well as in one plot</ins>. Compare different experiments and models. Are the test results lower(/higher) than the validation results? If it is the case, where can it be rooted from? Among all these models and variations, what are the most important factors improving the classification results?\n",
    "\n",
    "**Confusion matrix (2 point).** Select the best performing model among the experiments and use it to create a confusion matrix. The matrix shows the predicted versus true results per each label. Explain your observations on the matrix. Across which classes do you observe significant confusions?\n",
    "\n",
    "**Features visualization (3 point).** Continue with the best performing model and now take its feature vectors for the *dataitems in the test set*. Project these feature vectors to a 2-dimensional space using the TSNE method.  Using these 2-dimensional vectors, create two plots where the dataitems are shown as points (small circles) on the plots. The plots look exactly the same but only differ in the coloring of the data points. The first plot colors every dataitem with its *true label*, while the second one colors each according to its *predicted label by the model*. Keep in mind to assign the same colors to the classes of the plots, so that the plots are visually comparable. Put these two plots side by side, observe the differences, and compare the results. Report your observations.\n",
    "\n",
    "\n",
    "</div>"
   ]
  },
  {
   "cell_type": "code",
   "execution_count": null,
   "metadata": {},
   "outputs": [],
   "source": []
  },
  {
   "cell_type": "code",
   "execution_count": null,
   "metadata": {},
   "outputs": [],
   "source": []
  },
  {
   "cell_type": "markdown",
   "metadata": {},
   "source": [
    "<a name=\"section-optional\"></a><h2 style=\"color:rgb(0,120,170)\">Task C: Linear Model Interpretability (2 extra points)</h2>"
   ]
  },
  {
   "cell_type": "markdown",
   "metadata": {},
   "source": [
    "<div style=\"background-color:rgb(224, 243, 255)\">\n",
    "Train a logistic regression model on one of the document representations. Take the coefficient weights, learned by the model, on each dimension (which here corresponds to each token in the dictionary). Separately for each class, study what are the tokens that have the highest contributions/importance for the predictions of the model.\n",
    "</div>"
   ]
  },
  {
   "cell_type": "code",
   "execution_count": null,
   "metadata": {},
   "outputs": [],
   "source": []
  },
  {
   "cell_type": "code",
   "execution_count": null,
   "metadata": {},
   "outputs": [],
   "source": []
  }
 ],
 "metadata": {
  "kernelspec": {
   "display_name": "Python 3 (ipykernel)",
   "language": "python",
   "name": "python3"
  },
  "language_info": {
   "codemirror_mode": {
    "name": "ipython",
    "version": 3
   },
   "file_extension": ".py",
   "mimetype": "text/x-python",
   "name": "python",
   "nbconvert_exporter": "python",
   "pygments_lexer": "ipython3",
   "version": "3.11.0"
  }
 },
 "nbformat": 4,
 "nbformat_minor": 4
}
